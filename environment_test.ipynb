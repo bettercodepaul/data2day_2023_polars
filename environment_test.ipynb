{
 "cells": [
  {
   "cell_type": "markdown",
   "metadata": {},
   "source": [
    "# data2day 2023 Praxisworkshop Polars: Der Turbo Boost für Dataframes\n",
    "\n",
    "Bitte führe dieses Notebook einmalig aus, um zu prüfen, ob für dich alles funktioniert. Wir empfehlen [Google Colab](https://colab.research.google.com/) zu nutzen, wofür du einen (ggf. temporären) Google-Account benötigst.\n",
    "\n",
    "<a target=\"_blank\" href=\"https://colab.research.google.com/github/bettercodepaul/data2day_2023_polars/blob/main/environment_test.ipynb\">\n",
    "  <img src=\"https://colab.research.google.com/assets/colab-badge.svg\" alt=\"Open In Colab\"/>\n",
    "</a>\n",
    "\n",
    "Code und Daten werden wir am Workshop-Tag in diesem [GitHub repository](https://github.com/bettercodepaul/data2day_2023_polars/) bereitstellen.\n",
    "\n",
    "Alternativ zu Google Colab kannst du auch eine lokale Python 3.10 Umgebung mit Jupyter/JupyterLab nutzen. Du kannst die genauen Anforderungen in der [requirements.txt](https://github.com/bettercodepaul/data2day_2023_polars/raw/main/requirements.txt) nachlesen. Dann musst du ggf. die Notebooks während des Workshops für deine Umgebung anpassen."
   ]
  },
  {
   "cell_type": "markdown",
   "metadata": {},
   "source": [
    "## Bibliotheken installieren"
   ]
  },
  {
   "cell_type": "code",
   "execution_count": null,
   "metadata": {},
   "outputs": [],
   "source": [
    "import urllib.request\n",
    "import os.path\n",
    "REQUIREMENTS_URL = \"https://github.com/bettercodepaul/data2day_2023_polars/raw/main/requirements.txt\"\n",
    "DATA_URL = \"https://github.com/bettercodepaul/data2day_2023_polars/raw/main/spotify-charts-2017-2021-global-top200.csv.gz\""
   ]
  },
  {
   "cell_type": "code",
   "execution_count": null,
   "metadata": {},
   "outputs": [],
   "source": [
    "# download requirements.txt and some test data\n",
    "urllib.request.urlretrieve(REQUIREMENTS_URL, os.path.basename(REQUIREMENTS_URL))\n",
    "urllib.request.urlretrieve(DATA_URL, os.path.basename(DATA_URL))"
   ]
  },
  {
   "cell_type": "code",
   "execution_count": null,
   "metadata": {},
   "outputs": [],
   "source": [
    "# install libraries\n",
    "# don't forget that you might need to restart the runtime after installing packages\n",
    "!pip install -r requirements.txt"
   ]
  },
  {
   "cell_type": "code",
   "execution_count": null,
   "metadata": {},
   "outputs": [],
   "source": [
    "import polars as pl\n",
    "import plotly\n",
    "import plotly.express as px\n",
    "import pandas as pd\n",
    "import pyarrow\n",
    "import platform"
   ]
  },
  {
   "cell_type": "code",
   "execution_count": null,
   "metadata": {},
   "outputs": [],
   "source": [
    "def check_package_version(package_name, actual_version, expected_version):\n",
    "  if actual_version == expected_version:\n",
    "    print(f\"✅ {package_name} version is {actual_version} as expected.\")\n",
    "  else:\n",
    "    print(f\"⚠️ {package_name} version is {actual_version}, but expected {expected_version}.\")"
   ]
  },
  {
   "cell_type": "code",
   "execution_count": null,
   "metadata": {},
   "outputs": [],
   "source": [
    "check_package_version(\"python\", platform.python_version()[0:4], \"3.10\")\n",
    "check_package_version(\"polars\", pl.__version__, \"0.19.3\")\n",
    "check_package_version(\"plotly\", plotly.__version__, \"5.15.0\")\n",
    "check_package_version(\"pandas\", pd.__version__, \"1.5.3\")\n",
    "check_package_version(\"pyarrow\", pyarrow.__version__, \"9.0.0\")"
   ]
  },
  {
   "cell_type": "markdown",
   "metadata": {},
   "source": [
    "# Eine lokale CSV-Datei mit Polars einlesen"
   ]
  },
  {
   "cell_type": "code",
   "execution_count": null,
   "metadata": {},
   "outputs": [],
   "source": [
    "# check if polars can read the downloaded CSV file\n",
    "df = pl.read_csv(\"spotify-charts-2017-2021-global-top200.csv.gz\")\n",
    "expected_shape = (362_182, 9)\n",
    "if df.shape == expected_shape:\n",
    "    print(f\"✅ The CSV file was read as expected!\")\n",
    "else:\n",
    "    print(f\"⚠️ The CSV file ({df.shape}) was not read as expected ({expected_shape})\")"
   ]
  },
  {
   "cell_type": "markdown",
   "metadata": {},
   "source": [
    "Wenn bis hier nur ✅ zu sehen waren und keine Fehlermeldungen aufgetaucht sind, ist alles in Ordnung. Wir freuen uns auf den Workshop mit dir.\n",
    "\n",
    "🎶 🎹 🎸 🎷 🥁 🎤\n",
    "\n",
    "🎧 Damit du beim Workshop auch den ein oder anderen Song aus den Charts, die wir analysieren werden, anhören kannst, empfehlen wir dir, Kopfhörer mitzubringen."
   ]
  }
 ],
 "metadata": {
  "kernelspec": {
   "display_name": ".venv",
   "language": "python",
   "name": "python3"
  },
  "language_info": {
   "codemirror_mode": {
    "name": "ipython",
    "version": 3
   },
   "file_extension": ".py",
   "mimetype": "text/x-python",
   "name": "python",
   "nbconvert_exporter": "python",
   "pygments_lexer": "ipython3",
   "version": "3.10.11"
  },
  "orig_nbformat": 4
 },
 "nbformat": 4,
 "nbformat_minor": 2
}
