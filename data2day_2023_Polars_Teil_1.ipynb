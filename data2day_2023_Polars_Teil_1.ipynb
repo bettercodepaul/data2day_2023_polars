{
  "cells": [
    {
      "cell_type": "markdown",
      "metadata": {
        "id": "tvvEvKzsWboV"
      },
      "source": [
        "<a target=\"_blank\" href=\"https://colab.research.google.com/github/bettercodepaul/data2day_2023_polars/blob/main/data2day_2023_Polars_Teil_1.ipynb\">\n",
        "  <img src=\"https://colab.research.google.com/assets/colab-badge.svg\" alt=\"Open In Colab\"/>\n",
        "</a>\n",
        "\n",
        "# Polars: Der Turbo Boost für Dataframes\n",
        "\n",
        "In diesem Notebook lernen wir Polars kennen. Polars ist eine extrem schnelle Dataframe-Bibliothek bzw. In-Memory-Abfrage-Engine. Sie zeichnet sich aus durch extrem parallele Ausführung, cache-effiziente Algorithmen und eine ausdrucksstarke API. Dadurch ist sie perfekt für die effiziente Abfrage und Transformation von Daten.\n",
        "\n",
        "Polars ist in Rust geschrieben, nutzt das spalten-orientierte Format von Apache Arrow und besitzt eine Python-API.\n",
        "\n",
        "Mehr Information gibt es hier:\n",
        "\n",
        "- Homepage von Polars: https://www.pola.rs/\n",
        "- User-Guide: https://pola-rs.github.io/polars/user-guide/\n",
        "- API-Referenz: https://pola-rs.github.io/polars/py-polars/html/reference\n"
      ]
    },
    {
      "cell_type": "markdown",
      "metadata": {
        "id": "2EJKvLC6Z8ve"
      },
      "source": [
        "## Installation + Vorbereitung"
      ]
    },
    {
      "cell_type": "code",
      "execution_count": 1,
      "metadata": {
        "id": "MJ39jUfNjscb"
      },
      "outputs": [],
      "source": [
        "import urllib.request\n",
        "import os.path"
      ]
    },
    {
      "cell_type": "code",
      "execution_count": null,
      "metadata": {
        "colab": {
          "base_uri": "https://localhost:8080/"
        },
        "id": "IL4ogwh-eFM5",
        "outputId": "e4b623c6-7ffc-4785-d222-7c7559e5febf"
      },
      "outputs": [],
      "source": [
        "# requirements.txt mit benötigten Bibliotheken laden\n",
        "REQUIREMENTS_URL = \"https://github.com/bettercodepaul/data2day_2023_polars/raw/main/requirements.txt\"\n",
        "urllib.request.urlretrieve(REQUIREMENTS_URL, os.path.basename(REQUIREMENTS_URL))"
      ]
    },
    {
      "cell_type": "code",
      "execution_count": null,
      "metadata": {
        "colab": {
          "base_uri": "https://localhost:8080/"
        },
        "id": "WH4yZSDm1rKj",
        "outputId": "8b2245ec-f31d-490a-fd19-a44c85969576"
      },
      "outputs": [],
      "source": [
        "# nicht vergessen, dass die Laufzeitumgebung ggf. neu gestartet werden muss\n",
        "!pip install -qr requirements.txt"
      ]
    },
    {
      "cell_type": "code",
      "execution_count": 2,
      "metadata": {
        "id": "aeCD6DDzkGYC"
      },
      "outputs": [],
      "source": [
        "# Polars importieren\n",
        "import polars as pl"
      ]
    },
    {
      "cell_type": "code",
      "execution_count": null,
      "metadata": {
        "colab": {
          "base_uri": "https://localhost:8080/"
        },
        "id": "NU9yjICo90O6",
        "outputId": "982b23fd-e81c-494e-9bfc-19f1b3a776f8"
      },
      "outputs": [],
      "source": [
        "# bis zu 60 Zeichen pro Spalte ausgeben und Fließkommazahlen nicht abkürzen\n",
        "pl.Config(fmt_str_lengths=60, fmt_float=\"full\")"
      ]
    },
    {
      "cell_type": "code",
      "execution_count": null,
      "metadata": {
        "colab": {
          "base_uri": "https://localhost:8080/"
        },
        "id": "jV_0ZZgM16tU",
        "outputId": "4f150400-db52-4826-c1c3-44435bd8f2c9"
      },
      "outputs": [],
      "source": [
        "# CSV Daten herunterladen\n",
        "DATA_URL = \"https://github.com/bettercodepaul/data2day_2023_polars/raw/main/spotify-charts-2017-2021-global-top200.csv.gz\"\n",
        "LOCAL_DATA_FILE_NAME = os.path.basename(DATA_URL)\n",
        "urllib.request.urlretrieve(DATA_URL, LOCAL_DATA_FILE_NAME)"
      ]
    },
    {
      "cell_type": "code",
      "execution_count": null,
      "metadata": {},
      "outputs": [],
      "source": [
        "# Übungen und Hilfsfunktionen herunterladen\n",
        "EXERCISES_URL = \"https://github.com/bettercodepaul/data2day_2023_polars/raw/main/data2day_exercises.py\"\n",
        "urllib.request.urlretrieve(EXERCISES_URL, os.path.basename(EXERCISES_URL))"
      ]
    },
    {
      "cell_type": "code",
      "execution_count": null,
      "metadata": {},
      "outputs": [],
      "source": [
        "# Übungen und Hilfsfunktionen importieren\n",
        "from data2day_exercises import *"
      ]
    },
    {
      "cell_type": "markdown",
      "metadata": {
        "id": "M6SrEeCgd3D0"
      },
      "source": [
        "## Daten einlesen\n",
        "\n",
        "Polars unterstützt verschiedene Formate, um Daten in einen Dataframe einzulesen:\n",
        "\n",
        "- CSV (`read_csv`, `read_csv_batched`)\n",
        "- Apache Parquet (`read_parquet`)\n",
        "- Databricks Delta (`read_delta`)\n",
        "- SQL-Datenbanken (`read_database`, `read_database_uri`)\n",
        "- JSON (`read_json`, `read_ndjson`)\n",
        "- Microsoft Excel (`read_excel`)\n",
        "- Apache OpenOffice (`read_ods`)\n",
        "- Apache Avro (`read_avro`)\n",
        "- Apache IPC (`read_ipc`, `read_ipc_stream`)\n",
        "- Apache Iceberg"
      ]
    },
    {
      "cell_type": "markdown",
      "metadata": {
        "id": "Il5WKnLniLwn"
      },
      "source": [
        "Wir lesen zuerst eine CSV-Datei ein."
      ]
    },
    {
      "cell_type": "code",
      "execution_count": null,
      "metadata": {
        "colab": {
          "base_uri": "https://localhost:8080/",
          "height": 159
        },
        "id": "rXOzj-nmV_oz",
        "outputId": "d1ab5602-71eb-4755-dace-a4c0d057679f"
      },
      "outputs": [],
      "source": [
        "# Daten aus CSV-Datei einlesen\n",
        "df = pl.read_csv(LOCAL_DATA_FILE_NAME)\n",
        "df.head(2) # die ersten 2 Zeilen ausgeben"
      ]
    },
    {
      "cell_type": "markdown",
      "metadata": {
        "id": "Dwn4BiO2jAGK"
      },
      "source": [
        "Die Datei enthält die täglichen Spotify-Charts. Folgende Informationen sind enthalten:\n",
        "\n",
        "- `title`: Titel des Liedes\n",
        "- `rank`: Platzierung in den Charts\n",
        "- `date`: Tag an dem die Charts erhoben wurden\n",
        "- `artist`: Band oder Künstler:innen, die das Lied performen\n",
        "- `url`: URL unter der das Lied bei Spotify gehört werden kann\n",
        "- `region`: Region oder Land für die die Charts erhoben werden\n",
        "- `chart`: Bezeichnung bzw. Art der Charts\n",
        "- `trend`: Entwicklung der Platzierung des Liedes gegenüber dem Vortag\n",
        "- `streams`: Anzahl der Streams des Eintrags an dem Tag\n",
        "\n",
        "In jeder Spalte steht unter dem Spaltennamen der Datentyp der Spalte. Die Datums-Spalte wurde als String (`str`) eingelesen, das lässt sich mit Hilfe der Option `try_parse_dates` korrigieren."
      ]
    },
    {
      "cell_type": "code",
      "execution_count": null,
      "metadata": {
        "colab": {
          "base_uri": "https://localhost:8080/",
          "height": 159
        },
        "id": "5rAxnZwDhEvv",
        "outputId": "5e7baa00-1710-4208-aff6-8951fcc4e4bd"
      },
      "outputs": [],
      "source": [
        "# Daten aus CSV-Datei einlesen und Datums-Spalten parsen\n",
        "df = pl.read_csv(LOCAL_DATA_FILE_NAME, try_parse_dates=True)\n",
        "df.head(2) # die ersten 2 Zeilen ausgeben"
      ]
    },
    {
      "cell_type": "markdown",
      "metadata": {
        "id": "PX938UFjl1xJ"
      },
      "source": [
        "## Projektion (Spalten auswählen)\n",
        "\n",
        "Wenn nicht alle Spalten eines Dataframes benötigt werden, können mit der Methode `select` bestimmte Spalten ausgewählt werden."
      ]
    },
    {
      "cell_type": "code",
      "execution_count": null,
      "metadata": {
        "colab": {
          "base_uri": "https://localhost:8080/",
          "height": 159
        },
        "id": "tNer2czOl0u4",
        "outputId": "90512203-419f-43c6-d211-f6c8961a7717"
      },
      "outputs": [],
      "source": [
        "df.select(\"title\", \"artist\", \"url\", \"streams\").head(2)"
      ]
    },
    {
      "cell_type": "markdown",
      "metadata": {
        "id": "l8jl6qGO87Oe"
      },
      "source": [
        "## Erweiterte Projektion (Spalten verändern oder hinzufügen)\n",
        "\n",
        "Mit Hilfe von Ausdrücken (Expressions) können wir Spalten verändern oder auch neue Spalten hinzufügen.\n",
        "\n",
        "Eine Spalte kann mit der Methode `pl.col` unter Angabe des Spalten-Namens referenziert werden."
      ]
    },
    {
      "cell_type": "code",
      "execution_count": null,
      "metadata": {
        "colab": {
          "base_uri": "https://localhost:8080/",
          "height": 159
        },
        "id": "ns5csBhT86R3",
        "outputId": "1f75ce90-8231-4572-e611-dd9b12809cd6"
      },
      "outputs": [],
      "source": [
        "df.select(\"title\", \"artist\", pl.col(\"url\"), pl.col(\"streams\")).head(2)"
      ]
    },
    {
      "cell_type": "markdown",
      "metadata": {
        "id": "VwyfHvmI-VB4"
      },
      "source": [
        "Damit wir kleinere Zahlen erhalten, können wir z.B. die Anzahl der Streams in Tausenden angeben."
      ]
    },
    {
      "cell_type": "code",
      "execution_count": null,
      "metadata": {
        "colab": {
          "base_uri": "https://localhost:8080/",
          "height": 159
        },
        "id": "xvlHdvV3-od_",
        "outputId": "ca282712-5b26-4706-c8bf-948eafe1502d"
      },
      "outputs": [],
      "source": [
        "# Division mit dem \"/\" Operator konvertiert zu Floating-Point\n",
        "df.select(pl.col(\"title\"), pl.col(\"artist\"), pl.col(\"url\"), pl.col(\"streams\")/1000).head(2)"
      ]
    },
    {
      "cell_type": "code",
      "execution_count": null,
      "metadata": {
        "colab": {
          "base_uri": "https://localhost:8080/",
          "height": 159
        },
        "id": "LpHfzdkmN1qO",
        "outputId": "d3ce6de2-c77f-462d-a155-97d819bd0ffd"
      },
      "outputs": [],
      "source": [
        "# Alternative mit \"floordiv\", gemischte Schreibweise mit reinen Spaltenname und pl.col ist auch möglich\n",
        "df.select(\"title\", \"artist\", \"url\", pl.col(\"streams\").floordiv(1000)).head(2)"
      ]
    },
    {
      "cell_type": "markdown",
      "metadata": {
        "id": "tioQUY6m_99j"
      },
      "source": [
        "Neben Standard-Operatoren wie `+`, `-`, `*` und `/` steht eine Vielzahl von Ausdrücken für Berechnungen mit Zahlen steht zur Verfügung:\n",
        "\n",
        "- https://pola-rs.github.io/polars/py-polars/html/reference/expressions/computation.html\n",
        "- https://pola-rs.github.io/polars/py-polars/html/reference/expressions/operators.html"
      ]
    },
    {
      "cell_type": "markdown",
      "metadata": {
        "id": "fXxhLIalAjmO"
      },
      "source": [
        "Für die Manipulation von Strings gibt es ebenfalls viele Funktionen. Diese werden über den eigenen Namensraum `str` angesprochen.\n",
        "\n",
        "- https://pola-rs.github.io/polars/py-polars/html/reference/expressions/string.html\n",
        "\n",
        "Ein Auswahl an häufig verwendeten Funktionen für Strings:\n",
        "\n",
        "- `str.starts_with`, `str.ends_with`, `str.contains`\n",
        "- `str.slice`\n",
        "- `str.replace`\n",
        "- `str.to_date`, `str.to_datetime`\n",
        "- `str.split`\n",
        "- `str.strip_chars`\n",
        "- `str.n_chars`"
      ]
    },
    {
      "cell_type": "code",
      "execution_count": null,
      "metadata": {
        "colab": {
          "base_uri": "https://localhost:8080/",
          "height": 159
        },
        "id": "BE-zbrlPBDtJ",
        "outputId": "5d89d0e1-1d96-469e-b2ea-ce5c9a31872f"
      },
      "outputs": [],
      "source": [
        "df.select(pl.col(\"title\").str.to_uppercase(), \"artist\", \"url\", \"streams\").head(2)"
      ]
    },
    {
      "cell_type": "markdown",
      "metadata": {
        "id": "UT6Sh52TBv9L"
      },
      "source": [
        "Um nicht immer alle Spalten, die gar nicht transformiert werden, auflisten zu müssen, kann die Funktion `with_columns` genutzt werden."
      ]
    },
    {
      "cell_type": "code",
      "execution_count": null,
      "metadata": {
        "colab": {
          "base_uri": "https://localhost:8080/",
          "height": 159
        },
        "id": "679lOBitBvt3",
        "outputId": "efa7e7bf-705e-4b4c-ba02-93058a632b18"
      },
      "outputs": [],
      "source": [
        "# with_columns entspricht select ergänzt um alle fehlenden Spalten\n",
        "df.with_columns(pl.col(\"title\").str.to_uppercase()).head(2)"
      ]
    },
    {
      "cell_type": "markdown",
      "metadata": {
        "id": "jVcWFju0CdUK"
      },
      "source": [
        "Bis jetzt haben wir keine Spalten hinzugefügt. Eine neue Spalte entsteht, wenn wir einen Namen angeben, der bisher noch nicht existiert. Wir können dafür folgende Methoden verwenden:\n",
        "\n",
        "- `alias` für einen vollständig neuen Namen\n",
        "- `name.prefix`/`name.suffix` um den bestehenden Namen um ein Prefix/Suffix zu ergänzen"
      ]
    },
    {
      "cell_type": "code",
      "execution_count": null,
      "metadata": {
        "colab": {
          "base_uri": "https://localhost:8080/",
          "height": 159
        },
        "id": "Qz7f6M21BvFx",
        "outputId": "c355cb16-6c0e-49b1-9873-052a6ef38fd0"
      },
      "outputs": [],
      "source": [
        "# Track-ID aus der URL extrahieren\n",
        "df.select(\"title\", \"url\").with_columns(pl.col(\"url\").str.slice(len(\"https://open.spotify.com/track/\")).alias(\"trackId\"), pl.col(\"title\").str.to_uppercase().name.suffix(\"_uppercase\")).head(2)"
      ]
    },
    {
      "cell_type": "markdown",
      "metadata": {
        "id": "0kSJVVKuDyEf"
      },
      "source": [
        "Wenn die gesamte Abfrage zu lang wird, sollte sie geklammert werden und mit Umbrüchen strukturiert werden. Auf diese Art und Weise entsteht eine typische \"Abfrage-Pipeline\", die von oben nach unten gelesen werden kann."
      ]
    },
    {
      "cell_type": "code",
      "execution_count": null,
      "metadata": {
        "colab": {
          "base_uri": "https://localhost:8080/",
          "height": 159
        },
        "id": "zPKtNzUZDj4m",
        "outputId": "63ad3bf3-6069-48a4-f5a5-1ce050c4a382"
      },
      "outputs": [],
      "source": [
        "(df\n",
        "  .select(\"title\", \"url\")\n",
        "  .with_columns(\n",
        "    pl.col(\"url\").str.slice(len(\"https://open.spotify.com/track/\")).alias(\"trackId\"),\n",
        "    pl.col(\"title\").str.to_uppercase().name.suffix(\"_uppercase\")\n",
        "  )\n",
        "  .head(2)\n",
        ")"
      ]
    },
    {
      "cell_type": "markdown",
      "metadata": {},
      "source": [
        "Wir können auch aggregierende Funktion wie `min`, `max`, `sum`, `mean`, `median`, etc. im `select` benutzen, wodurch wir eine Aggregation erhalten. Benutzen wir dabei eine Spalte mehr als einmal, müssen wir aufpassen einen passenden Namen zu vergeben. Entweder mit `alias` oder mit `suffix`."
      ]
    },
    {
      "cell_type": "code",
      "execution_count": null,
      "metadata": {},
      "outputs": [],
      "source": [
        "# Zeitraum bestimmen, für den Daten vorliegen\n",
        "df.select(pl.col(\"date\").min().name.suffix(\"_min\"), pl.col(\"date\").max().name.suffix(\"_max\"))"
      ]
    },
    {
      "cell_type": "markdown",
      "metadata": {
        "id": "tT7PUSwYsah9"
      },
      "source": [
        "## Selektion/Filtern\n",
        "\n",
        "Mit Hilfe der Selektion lässt sich der Datensatz auf bestimmte Datensätze filtern."
      ]
    },
    {
      "cell_type": "markdown",
      "metadata": {
        "id": "YTxpB2hQYMgF"
      },
      "source": [
        "Für einen schnellen Überblick lassen sich die Methoden `head`, `tail` und `sample` nutzen."
      ]
    },
    {
      "cell_type": "code",
      "execution_count": null,
      "metadata": {
        "colab": {
          "base_uri": "https://localhost:8080/",
          "height": 159
        },
        "id": "EM0qTFDaYZNm",
        "outputId": "55e0ca48-abc3-498b-ae8d-2175d18b8abe"
      },
      "outputs": [],
      "source": [
        "# die ersten zwei Zeilen\n",
        "df.head(2)"
      ]
    },
    {
      "cell_type": "code",
      "execution_count": null,
      "metadata": {
        "colab": {
          "base_uri": "https://localhost:8080/",
          "height": 159
        },
        "id": "Erw5AiusmLfk",
        "outputId": "f47791cb-3819-4c77-cbe1-6085958a2af1"
      },
      "outputs": [],
      "source": [
        "# die letzten zwei Zeilen\n",
        "df.tail(2)"
      ]
    },
    {
      "cell_type": "code",
      "execution_count": null,
      "metadata": {
        "colab": {
          "base_uri": "https://localhost:8080/",
          "height": 159
        },
        "id": "lA17klhjmO9l",
        "outputId": "a4850ded-2a03-4972-fc31-f5f2906aa135"
      },
      "outputs": [],
      "source": [
        "# zwei zufällig Zeilen (absolut mit Parameter \"n\" oder relativ mit Parameter \"fraction\")\n",
        "df.sample(n=2)\n",
        "df.sample(fraction=2/len(df)) # 2/362182 ≈ 0.000006 ist hier äquivalent zu n=2"
      ]
    },
    {
      "cell_type": "markdown",
      "metadata": {
        "id": "FxZz1CHCfeKk"
      },
      "source": [
        "Die Zeilen mit dem größten oder kleinsten Wert in einer Spalte lassen sich mit den Funktionen `top_k` und `bottom_k` auswählen."
      ]
    },
    {
      "cell_type": "code",
      "execution_count": null,
      "metadata": {
        "colab": {
          "base_uri": "https://localhost:8080/",
          "height": 128
        },
        "id": "muysGH4Lfd00",
        "outputId": "b39a44fe-d8a8-413c-b413-1ede76e8903b"
      },
      "outputs": [],
      "source": [
        "# der an einem Tag weltweit am meisten gestreamte Song auf Spotify: Easy On Me von Adele\n",
        "df.top_k(1, by=\"streams\")"
      ]
    },
    {
      "cell_type": "markdown",
      "metadata": {},
      "source": [
        "Den können wir uns auch anhören."
      ]
    },
    {
      "cell_type": "code",
      "execution_count": null,
      "metadata": {},
      "outputs": [],
      "source": [
        "# spielt eine Vorschau des Songs mit Spotify. Bei mehreren Songs im Dataframe kann eine Zeilennummer angegebenen werden.\n",
        "play_song(df.top_k(1, by=\"streams\"))"
      ]
    },
    {
      "cell_type": "markdown",
      "metadata": {
        "id": "crTgpgUfYKLm"
      },
      "source": [
        "Zeilen lassen sich mit der Methode `filter` und einem Boolschen-Ausdruck präzise auswählen. Wir können z.B. alle Datensätze einer bestimmten Künstlerin auswählen."
      ]
    },
    {
      "cell_type": "code",
      "execution_count": null,
      "metadata": {
        "colab": {
          "base_uri": "https://localhost:8080/",
          "height": 159
        },
        "id": "VfB4KMiosMi-",
        "outputId": "903fef4b-2ed3-4164-d7f7-92fcb180a187"
      },
      "outputs": [],
      "source": [
        "# zwei Zeilen für die Sängerin \"Adele\"\n",
        "# eq steht für equals\n",
        "df.filter(pl.col(\"artist\").eq(\"Adele\")).head(2)"
      ]
    },
    {
      "cell_type": "markdown",
      "metadata": {
        "id": "y0MXpvxOg9CJ"
      },
      "source": [
        "Eine Übersicht mit wichtigen Operatoren:\n",
        "- Gleich (`==`): `eq`\n",
        "- Ungleich (`!=`): `ne`\n",
        "- Größer (`>`, `>=`): `gt`, `ge`\n",
        "- Kleiner (`<`, `<=`): `lt`, `le`\n",
        "- Zwischen: `is_between`\n",
        "- Gleich einem aus einer Menge: `is_in`"
      ]
    },
    {
      "cell_type": "markdown",
      "metadata": {
        "id": "pVPXaj_5u3up"
      },
      "source": [
        "Logische Ausdrücke lassen sich verknüpfen mit:\n",
        "- Konjunktion/AND: `&`\n",
        "- Disjunktion/OR: `|`\n",
        "- Kontravalenz/XOR: `^`\n",
        "- Negation/NOT: `~`"
      ]
    },
    {
      "cell_type": "code",
      "execution_count": null,
      "metadata": {
        "colab": {
          "base_uri": "https://localhost:8080/",
          "height": 159
        },
        "id": "qzUmibLRleYW",
        "outputId": "4a3db116-c804-4468-f51f-619dac4c7242"
      },
      "outputs": [],
      "source": [
        "# zwei Einträge für das Lied \"Easy On Me\" von Adele mit mehr als 3 Millionen Streams an einem Tag\n",
        "df.filter(pl.col(\"artist\").eq(\"Adele\") & pl.col(\"title\").eq(\"Easy On Me\") & pl.col(\"streams\").gt(3_000_000)).head(2)"
      ]
    },
    {
      "cell_type": "markdown",
      "metadata": {
        "id": "K2mdLRMHGSAn"
      },
      "source": [
        "Anstatt der Operatoren `eq` und `gt` wäre es auch möglich die Standard-Python-Operatoren `==` und `>` zu nutzen. Dann müssen aber alle logischen Teilausdrücke geklammert werden. Was ihr bevorzugt, ist am Ende Geschmackssache 😁"
      ]
    },
    {
      "cell_type": "code",
      "execution_count": null,
      "metadata": {
        "colab": {
          "base_uri": "https://localhost:8080/",
          "height": 159
        },
        "id": "J8cWUks0GRQf",
        "outputId": "ecaab432-c402-4508-f6f5-df4378898b0f"
      },
      "outputs": [],
      "source": [
        "df.filter(pl.col(\"artist\").eq(\"Adele\") & pl.col(\"title\").eq(\"Easy On Me\") & pl.col(\"streams\").gt(3_000_000)).head(2)\n",
        "df.filter((pl.col(\"artist\") == \"Adele\") & (pl.col(\"title\") == \"Easy On Me\") & (pl.col(\"streams\") > 3_000_000)).head(2)"
      ]
    },
    {
      "cell_type": "markdown",
      "metadata": {
        "id": "ypZ2Nfx0eoUZ"
      },
      "source": [
        "Für einen Vergleich mit einem konkreten Datum kann das Datum mit der Funktion `pl.date` erzeugt werden."
      ]
    },
    {
      "cell_type": "code",
      "execution_count": null,
      "metadata": {
        "colab": {
          "base_uri": "https://localhost:8080/",
          "height": 193
        },
        "id": "APJNl6RbenKh",
        "outputId": "283bafec-5039-4c82-c138-5c89aa3e873e"
      },
      "outputs": [],
      "source": [
        "# zwei Einträge für den 1. Mai 2017\n",
        "df.filter(pl.col(\"date\").eq(pl.date(2017, 5, 1))).head(2)"
      ]
    },
    {
      "cell_type": "code",
      "execution_count": null,
      "metadata": {
        "colab": {
          "base_uri": "https://localhost:8080/",
          "height": 283
        },
        "id": "ZIeSt6bIg199",
        "outputId": "14e43964-df5f-4d99-88c5-52b763185ffb"
      },
      "outputs": [],
      "source": [
        "# die Plätze 5 bis 10 für den 19. Juli 2018\n",
        "df.filter(pl.col(\"date\").eq(pl.date(2018, 7, 19)) & pl.col(\"rank\").is_between(5, 10))"
      ]
    },
    {
      "cell_type": "markdown",
      "metadata": {},
      "source": [
        "Wir können uns auch die täglichen Streams oder die Platzierung von Liedern mit einer Hilfsfunktion plotten lassen."
      ]
    },
    {
      "cell_type": "code",
      "execution_count": null,
      "metadata": {},
      "outputs": [],
      "source": [
        "some_song_df = df.filter(pl.col(\"artist\").eq(\"Juice WRLD\") & pl.col(\"title\").eq(\"Lucid Dreams\"))"
      ]
    },
    {
      "cell_type": "code",
      "execution_count": null,
      "metadata": {},
      "outputs": [],
      "source": [
        "plot_streams(some_song_df)"
      ]
    },
    {
      "cell_type": "code",
      "execution_count": null,
      "metadata": {},
      "outputs": [],
      "source": [
        "plot_rank(some_song_df)"
      ]
    },
    {
      "cell_type": "markdown",
      "metadata": {},
      "source": [
        "## Übungen zu Projektion und Selektion\n",
        "\n",
        "Die Übung kannst du direkt hier im Notebook machen. Für jede Übung gibt es ein Objekt (`q1`, `q2`, `q3`, ...), das die Frage, einen Hinweis, eine Antwortprüfung und die Lösung enthält."
      ]
    },
    {
      "cell_type": "code",
      "execution_count": null,
      "metadata": {},
      "outputs": [],
      "source": [
        "# Die Methode \"question\" gibt die Frage aus.\n",
        "q0.question()"
      ]
    },
    {
      "cell_type": "code",
      "execution_count": null,
      "metadata": {},
      "outputs": [],
      "source": [
        "# Dann gibt es immer eine Zelle mit einem Hinweis in welche Variablen die Lösung geschrieben werden sollte.\n",
        "# Lege gerne weitere Zellen an, um deine Lösung genauer inspizieren zu können.\n",
        "coole_firma = \"BettercallPaul\""
      ]
    },
    {
      "cell_type": "code",
      "execution_count": null,
      "metadata": {},
      "outputs": [],
      "source": [
        "# Die Methode \"check\" prüft eine Lösung.\n",
        "q0.check(coole_firma)"
      ]
    },
    {
      "cell_type": "code",
      "execution_count": null,
      "metadata": {},
      "outputs": [],
      "source": [
        "# Die Methode \"hint\" zeigt einen Hinweis an.\n",
        "q0.hint()"
      ]
    },
    {
      "cell_type": "code",
      "execution_count": null,
      "metadata": {},
      "outputs": [],
      "source": [
        "# Die Methode \"solution\" zeigt die Lösung.\n",
        "q0.solution()"
      ]
    },
    {
      "cell_type": "markdown",
      "metadata": {},
      "source": [
        "Jetzt bist du dran mit den richtigen Übungen!"
      ]
    },
    {
      "cell_type": "markdown",
      "metadata": {},
      "source": [
        "### Frage 1"
      ]
    },
    {
      "cell_type": "code",
      "execution_count": null,
      "metadata": {},
      "outputs": [],
      "source": [
        "q1.question()"
      ]
    },
    {
      "cell_type": "code",
      "execution_count": null,
      "metadata": {},
      "outputs": [],
      "source": [
        "q1_df = ..."
      ]
    },
    {
      "cell_type": "code",
      "execution_count": null,
      "metadata": {},
      "outputs": [],
      "source": [
        "q1.check(q1_df)\n",
        "#q1.hint()\n",
        "#q1.solution()"
      ]
    },
    {
      "cell_type": "markdown",
      "metadata": {},
      "source": [
        "### Frage 2"
      ]
    },
    {
      "cell_type": "code",
      "execution_count": null,
      "metadata": {},
      "outputs": [],
      "source": [
        "q2.question()"
      ]
    },
    {
      "cell_type": "code",
      "execution_count": null,
      "metadata": {},
      "outputs": [],
      "source": [
        "q2_df = ..."
      ]
    },
    {
      "cell_type": "code",
      "execution_count": null,
      "metadata": {},
      "outputs": [],
      "source": [
        "q2.check(q2_df)"
      ]
    },
    {
      "cell_type": "markdown",
      "metadata": {},
      "source": [
        "### Frage 3"
      ]
    },
    {
      "cell_type": "code",
      "execution_count": null,
      "metadata": {},
      "outputs": [],
      "source": [
        "q3.question()"
      ]
    },
    {
      "cell_type": "code",
      "execution_count": null,
      "metadata": {},
      "outputs": [],
      "source": [
        "q3_df = ..."
      ]
    },
    {
      "cell_type": "code",
      "execution_count": null,
      "metadata": {},
      "outputs": [],
      "source": [
        "q3.check(q3_df)"
      ]
    },
    {
      "cell_type": "markdown",
      "metadata": {},
      "source": [
        "### Frage 4"
      ]
    },
    {
      "cell_type": "code",
      "execution_count": null,
      "metadata": {},
      "outputs": [],
      "source": [
        "q4.question()"
      ]
    },
    {
      "cell_type": "code",
      "execution_count": null,
      "metadata": {},
      "outputs": [],
      "source": [
        "rank_1 = ...\n",
        "rank_200 = ..."
      ]
    },
    {
      "cell_type": "code",
      "execution_count": null,
      "metadata": {},
      "outputs": [],
      "source": [
        "q4.check(rank_1, rank_200)"
      ]
    },
    {
      "cell_type": "markdown",
      "metadata": {},
      "source": [
        "### Frage 5"
      ]
    },
    {
      "cell_type": "code",
      "execution_count": null,
      "metadata": {},
      "outputs": [],
      "source": [
        "q5.question()"
      ]
    },
    {
      "cell_type": "code",
      "execution_count": null,
      "metadata": {},
      "outputs": [],
      "source": [
        "q5_df = ..."
      ]
    },
    {
      "cell_type": "code",
      "execution_count": null,
      "metadata": {},
      "outputs": [],
      "source": [
        "q5.check(q5_df)"
      ]
    },
    {
      "cell_type": "markdown",
      "metadata": {},
      "source": [
        "### Frage 6"
      ]
    },
    {
      "cell_type": "code",
      "execution_count": null,
      "metadata": {
        "id": "6cKn59GmENFt"
      },
      "outputs": [],
      "source": [
        "q6.question()"
      ]
    },
    {
      "cell_type": "code",
      "execution_count": null,
      "metadata": {},
      "outputs": [],
      "source": [
        "q6_df = ..."
      ]
    },
    {
      "cell_type": "code",
      "execution_count": null,
      "metadata": {},
      "outputs": [],
      "source": [
        "q6.check(q6_df)"
      ]
    },
    {
      "cell_type": "markdown",
      "metadata": {},
      "source": [
        "## Series\n",
        "\n",
        "Normalerweise arbeiten wir immer auf einem Dataframe. Der Vollständigkeit halber sei aber erwähnt, dass es für die einzelnen Spalten den Datentyp `Series` gibt. Mit der Methode `get_column` oder dem Subset-Operator `[]` kann eine Spalte von einem Dataframe abgerufen werden."
      ]
    },
    {
      "cell_type": "code",
      "execution_count": null,
      "metadata": {},
      "outputs": [],
      "source": [
        "df.head(2).get_column(\"title\")"
      ]
    },
    {
      "cell_type": "code",
      "execution_count": null,
      "metadata": {},
      "outputs": [],
      "source": [
        "df.head(2)[\"title\"]"
      ]
    },
    {
      "cell_type": "code",
      "execution_count": null,
      "metadata": {},
      "outputs": [],
      "source": [
        "type(df.get_column(\"title\"))"
      ]
    },
    {
      "cell_type": "markdown",
      "metadata": {},
      "source": [
        "## Datentypen\n",
        "\n",
        "Polars kann viele verschiedene Daten in einer Spalte schreiben.\n",
        "\n",
        "### Zahlen und boolesche Werte\n",
        "\n",
        "- `Int8`, `Int16`, `Int32`, `Int64`: Ganzzahl\n",
        "- `Float32`, `Float64`: Fließkommazahl\n",
        "- `UInt8`, `UInt16`, `UInt32`, `UInt64`: natürliche Zahl (ohne Vorzeichen)\n",
        "- `Decimal`: 128-Bit Fließkommazahl mit hoher Präzision, experimentell\n",
        "- `Boolean`: logischer Wahrheitswert"
      ]
    },
    {
      "cell_type": "markdown",
      "metadata": {},
      "source": [
        "Zahlen werden in Polars als 64-Bit Datentypen angelegt, wenn nicht anders angegeben."
      ]
    },
    {
      "cell_type": "markdown",
      "metadata": {},
      "source": [
        "Ein Spalte lässt sich mit der Funktion `cast` in einen anderen Datentyp konvertieren, um z.B. Speicherplatz zu sparen."
      ]
    },
    {
      "cell_type": "code",
      "execution_count": null,
      "metadata": {},
      "outputs": [],
      "source": [
        "# Standard-Datentyp ist Int64 bzw. Float64 für Zahlen\n",
        "df.select(pl.col(\"streams\")).head(2)"
      ]
    },
    {
      "cell_type": "code",
      "execution_count": null,
      "metadata": {},
      "outputs": [],
      "source": [
        "# wirft einen Fehler, weil einige Werte für Int16 zu groß sind\n",
        "try:\n",
        "    df.select(pl.col(\"streams\").cast(pl.Int16)).head(2)\n",
        "except pl.ComputeError as e:\n",
        "    print(e.args)\n"
      ]
    },
    {
      "cell_type": "code",
      "execution_count": null,
      "metadata": {},
      "outputs": [],
      "source": [
        "# wirft keinen Fehler, weil Int32 ausreichend groß ist\n",
        "df.select(pl.col(\"streams\").cast(pl.Int32)).head(2)"
      ]
    },
    {
      "cell_type": "markdown",
      "metadata": {},
      "source": [
        "Aber Achtung bevor du jetzt alles zum kleinstmöglichen Datentyp konvertierst: bei 32-Bit Datentypen kann es bei Berechnungen zu Überlaufen kommen, für die keine Warnung ausgegeben wird!"
      ]
    },
    {
      "cell_type": "code",
      "execution_count": null,
      "metadata": {},
      "outputs": [],
      "source": [
        "print(f'Anzahl aller Streams mit Int64 ist {df.select(pl.col(\"streams\").sum()).item()}')\n",
        "print(f'Anzahl aller Streams mit Int32 ist {df.select(pl.col(\"streams\").cast(pl.Int32).sum()).item()}')"
      ]
    },
    {
      "cell_type": "markdown",
      "metadata": {},
      "source": [
        "Mit der Methode `shrink_dtype` lässt sich der Speicherverbrauch ein Stück weit auch automatisiert verringern. Dabei wird aber nie von \"signed\" zu \"unsigned\" Datentypen gewechselt, auch wenn keine negativen Daten vorhanden sind."
      ]
    },
    {
      "cell_type": "code",
      "execution_count": null,
      "metadata": {},
      "outputs": [],
      "source": [
        "df.select(pl.col(\"rank\").shrink_dtype()).head(2)"
      ]
    },
    {
      "cell_type": "markdown",
      "metadata": {},
      "source": [
        "### Datum und Zeit\n",
        "\n",
        "- `Date`: Datum\n",
        "- `Time`: Uhrzeit\n",
        "- `Datetime`: Zeitpunkt\n",
        "- `Duration`: Zeitdauer"
      ]
    },
    {
      "cell_type": "markdown",
      "metadata": {},
      "source": [
        "Komponenten aus Daten und Zeiten lassen sich über den Kontext `dt` extrahieren."
      ]
    },
    {
      "cell_type": "code",
      "execution_count": null,
      "metadata": {},
      "outputs": [],
      "source": [
        "(df\n",
        "    .select(\"date\")\n",
        "    .with_columns(\n",
        "        pl.col(\"date\").dt.year().alias(\"year\"),\n",
        "        pl.col(\"date\").dt.quarter().alias(\"quarter\"),\n",
        "        pl.col(\"date\").dt.month().alias(\"month\"),\n",
        "        pl.col(\"date\").dt.week().alias(\"week\"),\n",
        "        pl.col(\"date\").dt.weekday().alias(\"weekday\"), # Monday == 1, Sunday == 7\n",
        "        pl.col(\"date\").dt.day().alias(\"day\"),\n",
        "    )\n",
        "    .sample(5)\n",
        ")"
      ]
    },
    {
      "cell_type": "markdown",
      "metadata": {},
      "source": [
        "Wir können auch Daten voneinander abziehen oder eine Zeitspanne addieren oder abziehen (`offset_by`)."
      ]
    },
    {
      "cell_type": "code",
      "execution_count": null,
      "metadata": {},
      "outputs": [],
      "source": [
        "(df\n",
        "    .select(\"date\")\n",
        "    .with_columns(\n",
        "        (pl.col(\"date\").dt.month_end() - pl.col(\"date\")).alias(\"days_till_month_end\"),\n",
        "        pl.col(\"date\").dt.offset_by(\"1w\").alias(\"same_day_next_week\")\n",
        "    )\n",
        "    .sample(5)\n",
        ")"
      ]
    },
    {
      "cell_type": "code",
      "execution_count": null,
      "metadata": {},
      "outputs": [],
      "source": [
        "(df\n",
        "    .filter(pl.col(\"date\").eq(pl.col(\"date\").dt.month_end()))\n",
        "    .select(\"date\", pl.col(\"artist\"))\n",
        "    .sample(5)\n",
        ")"
      ]
    },
    {
      "cell_type": "markdown",
      "metadata": {},
      "source": [
        "### Zeichenketten\n",
        "\n",
        "- `Utf8`: beliebige Zeichenkette\n",
        "- `Categorical`: Zeichenkette kodiert als Kategorie\n",
        "\n",
        "### Strukturen\n",
        "\n",
        "- `List`: Liste mit variabler Länge je Zeile\n",
        "- `Array`: Liste mit fester Länger in allen Zeilen\n",
        "- `Struct`: benamte Felder\n",
        "\n",
        "### Sonstiges\n",
        "\n",
        "- `Binary`: binäre Daten\n",
        "- `Object`: beliebiges Python-Objekt"
      ]
    },
    {
      "cell_type": "markdown",
      "metadata": {},
      "source": [
        "## Sortieren\n",
        "\n",
        "Mit der Methode `sort` lassen sich Dataframes einfach sortieren."
      ]
    },
    {
      "cell_type": "code",
      "execution_count": null,
      "metadata": {},
      "outputs": [],
      "source": [
        "df.sort(\"rank\").head(3)"
      ]
    },
    {
      "cell_type": "code",
      "execution_count": null,
      "metadata": {},
      "outputs": [],
      "source": [
        "df.sort(\"streams\", descending=True).head(3)"
      ]
    },
    {
      "cell_type": "code",
      "execution_count": null,
      "metadata": {},
      "outputs": [],
      "source": [
        "df.sort([\"rank\", \"streams\"], descending=[False, True]).head(3)"
      ]
    },
    {
      "cell_type": "markdown",
      "metadata": {},
      "source": [
        "## Daten schreiben\n",
        "\n",
        "Ein Dataframe kann mit den Methoden `write_*` in verschiedenen Formaten in eine Datei geschrieben werden."
      ]
    },
    {
      "cell_type": "code",
      "execution_count": null,
      "metadata": {},
      "outputs": [],
      "source": [
        "df_2020 = df.filter(pl.col(\"date\").dt.year().eq(2020))"
      ]
    },
    {
      "cell_type": "code",
      "execution_count": null,
      "metadata": {},
      "outputs": [],
      "source": [
        "# als CSV (ca. 9 MB)\n",
        "df_2020.write_csv(\"2020_write_test.csv\", )"
      ]
    },
    {
      "cell_type": "code",
      "execution_count": null,
      "metadata": {},
      "outputs": [],
      "source": [
        "# als komprimierte CSV (ca. 2 MB)\n",
        "import gzip\n",
        "\n",
        "with gzip.open(\"2020_write_test.csv.gz\", \"wb\") as f:\n",
        "    df_2020.write_csv(f)"
      ]
    },
    {
      "cell_type": "code",
      "execution_count": null,
      "metadata": {},
      "outputs": [],
      "source": [
        "# als Apache Parquet (ca. 1 MB)\n",
        "df_2020.write_parquet(\"2020_write_test.parquet\")"
      ]
    },
    {
      "cell_type": "code",
      "execution_count": null,
      "metadata": {},
      "outputs": [],
      "source": [
        "!ls -l 2020_write_test*"
      ]
    },
    {
      "cell_type": "markdown",
      "metadata": {},
      "source": [
        "## Optionale Übungen"
      ]
    },
    {
      "cell_type": "markdown",
      "metadata": {},
      "source": [
        "### Frage 7"
      ]
    },
    {
      "cell_type": "code",
      "execution_count": null,
      "metadata": {},
      "outputs": [],
      "source": [
        "q7.question()"
      ]
    },
    {
      "cell_type": "code",
      "execution_count": null,
      "metadata": {},
      "outputs": [],
      "source": [
        "q7_df = ..."
      ]
    },
    {
      "cell_type": "code",
      "execution_count": null,
      "metadata": {},
      "outputs": [],
      "source": [
        "q7.check(q7_df)"
      ]
    },
    {
      "cell_type": "markdown",
      "metadata": {},
      "source": [
        "### Frage 8"
      ]
    },
    {
      "cell_type": "code",
      "execution_count": null,
      "metadata": {},
      "outputs": [],
      "source": [
        "q8.question()"
      ]
    },
    {
      "cell_type": "code",
      "execution_count": null,
      "metadata": {},
      "outputs": [],
      "source": [
        "q8_monday = ...\n",
        "q8_friday = ..."
      ]
    },
    {
      "cell_type": "code",
      "execution_count": null,
      "metadata": {},
      "outputs": [],
      "source": [
        "q8.check(q8_monday, q8_friday)"
      ]
    },
    {
      "cell_type": "markdown",
      "metadata": {},
      "source": [
        "### Frage 9"
      ]
    },
    {
      "cell_type": "code",
      "execution_count": null,
      "metadata": {},
      "outputs": [],
      "source": [
        "q9.question()"
      ]
    },
    {
      "cell_type": "code",
      "execution_count": null,
      "metadata": {},
      "outputs": [],
      "source": [
        "q9_df = ..."
      ]
    },
    {
      "cell_type": "code",
      "execution_count": null,
      "metadata": {},
      "outputs": [],
      "source": [
        "q9.check(q9_df)"
      ]
    },
    {
      "cell_type": "markdown",
      "metadata": {},
      "source": [
        "### Frage 10"
      ]
    },
    {
      "cell_type": "code",
      "execution_count": null,
      "metadata": {},
      "outputs": [],
      "source": [
        "q10.question()"
      ]
    },
    {
      "cell_type": "code",
      "execution_count": null,
      "metadata": {},
      "outputs": [],
      "source": [
        "q10_df = ..."
      ]
    },
    {
      "cell_type": "code",
      "execution_count": null,
      "metadata": {},
      "outputs": [],
      "source": [
        "q10.check(q10_df)"
      ]
    },
    {
      "cell_type": "markdown",
      "metadata": {},
      "source": [
        "### Frage 11"
      ]
    },
    {
      "cell_type": "code",
      "execution_count": null,
      "metadata": {},
      "outputs": [],
      "source": [
        "q11.question()"
      ]
    },
    {
      "cell_type": "code",
      "execution_count": null,
      "metadata": {},
      "outputs": [],
      "source": [
        "q11_ohne_zedd = ...\n",
        "q11_mit_zedd = ..."
      ]
    },
    {
      "cell_type": "code",
      "execution_count": null,
      "metadata": {},
      "outputs": [],
      "source": [
        "q11.check(q11_ohne_zedd, q11_mit_zedd)"
      ]
    },
    {
      "cell_type": "markdown",
      "metadata": {},
      "source": [
        "### Frage 12"
      ]
    },
    {
      "cell_type": "code",
      "execution_count": null,
      "metadata": {},
      "outputs": [],
      "source": [
        "q12.question()"
      ]
    },
    {
      "cell_type": "code",
      "execution_count": null,
      "metadata": {},
      "outputs": [],
      "source": [
        "q12_df = ..."
      ]
    },
    {
      "cell_type": "code",
      "execution_count": null,
      "metadata": {},
      "outputs": [],
      "source": [
        "q12.check(df, q12_df)"
      ]
    }
  ],
  "metadata": {
    "colab": {
      "provenance": []
    },
    "kernelspec": {
      "display_name": "Python 3",
      "name": "python3"
    },
    "language_info": {
      "codemirror_mode": {
        "name": "ipython",
        "version": 3
      },
      "file_extension": ".py",
      "mimetype": "text/x-python",
      "name": "python",
      "nbconvert_exporter": "python",
      "pygments_lexer": "ipython3",
      "version": "3.10.11"
    }
  },
  "nbformat": 4,
  "nbformat_minor": 0
}
