{
  "cells": [
    {
      "cell_type": "markdown",
      "metadata": {
        "id": "tvvEvKzsWboV"
      },
      "source": [
        "<a target=\"_blank\" href=\"https://colab.research.google.com/github/bettercodepaul/data2day_2023_polars/blob/main/data2day_2023_Polars_Teil_1.ipynb\">\n",
        "  <img src=\"https://colab.research.google.com/assets/colab-badge.svg\" alt=\"Open In Colab\"/>\n",
        "</a>\n",
        "\n",
        "# Polars: The Turbo Boost for Dataframes\n",
        "\n",
        "In this notebook, we'll get to know Polars. Polars is an extremely fast dataframe library or in-memory query engine. It features extremely parallel execution, cache-efficient algorithms, and an expressive API. This makes it perfect for efficient querying and transformation of data.\n",
        "\n",
        "Polars is written in Rust, uses Apache Arrow's column-oriented format, and has a Python API.\n",
        "\n",
        "More information is available here:\n",
        "\n",
        "- Homepage of Polars: https://www.pola.rs/\n",
        "- User Guide: https://pola-rs.github.io/polars/user-guide/\n",
        "- API Reference: https://pola-rs.github.io/polars/py-polars/html/reference/"
      ]
    },
    {
      "cell_type": "markdown",
      "metadata": {
        "id": "2EJKvLC6Z8ve"
      },
      "source": [
        "## Installation + Set-Up"
      ]
    },
    {
      "cell_type": "code",
      "execution_count": null,
      "metadata": {
        "id": "MJ39jUfNjscb"
      },
      "outputs": [],
      "source": [
        "import urllib.request\n",
        "import os.path"
      ]
    },
    {
      "cell_type": "code",
      "execution_count": null,
      "metadata": {
        "colab": {
          "base_uri": "https://localhost:8080/"
        },
        "id": "IL4ogwh-eFM5",
        "outputId": "e4b623c6-7ffc-4785-d222-7c7559e5febf"
      },
      "outputs": [],
      "source": [
        "# load requirements.txt with required libraries\n",
        "REQUIREMENTS_URL = \"https://github.com/bettercodepaul/data2day_2023_polars/raw/main/requirements.txt\"\n",
        "urllib.request.urlretrieve(REQUIREMENTS_URL, os.path.basename(REQUIREMENTS_URL))"
      ]
    },
    {
      "cell_type": "code",
      "execution_count": null,
      "metadata": {
        "colab": {
          "base_uri": "https://localhost:8080/"
        },
        "id": "WH4yZSDm1rKj",
        "outputId": "8b2245ec-f31d-490a-fd19-a44c85969576"
      },
      "outputs": [],
      "source": [
        "# don't forget that you might need to restart the kernel\n",
        "!pip install -qr requirements.txt"
      ]
    },
    {
      "cell_type": "code",
      "execution_count": null,
      "metadata": {
        "id": "aeCD6DDzkGYC"
      },
      "outputs": [],
      "source": [
        "# import polars\n",
        "import polars as pl"
      ]
    },
    {
      "cell_type": "code",
      "execution_count": null,
      "metadata": {
        "colab": {
          "base_uri": "https://localhost:8080/"
        },
        "id": "NU9yjICo90O6",
        "outputId": "982b23fd-e81c-494e-9bfc-19f1b3a776f8"
      },
      "outputs": [],
      "source": [
        "# output up to 60 characters per column and do not abbreviate floating point numbers\n",
        "pl.Config(fmt_str_lengths=60, fmt_float=\"full\")"
      ]
    },
    {
      "cell_type": "code",
      "execution_count": null,
      "metadata": {
        "colab": {
          "base_uri": "https://localhost:8080/"
        },
        "id": "jV_0ZZgM16tU",
        "outputId": "4f150400-db52-4826-c1c3-44435bd8f2c9"
      },
      "outputs": [],
      "source": [
        "# download CSV data\n",
        "DATA_URL = \"https://github.com/bettercodepaul/data2day_2023_polars/raw/main/spotify-charts-2017-2021-global-top200.csv.gz\"\n",
        "LOCAL_DATA_FILE_NAME = os.path.basename(DATA_URL)\n",
        "urllib.request.urlretrieve(DATA_URL, LOCAL_DATA_FILE_NAME)"
      ]
    },
    {
      "cell_type": "code",
      "execution_count": null,
      "metadata": {},
      "outputs": [],
      "source": [
        "# download excercises and utility functions\n",
        "EXERCISES_URL = \"https://github.com/bettercodepaul/data2day_2023_polars/raw/main/data2day_exercises_en.py\"\n",
        "urllib.request.urlretrieve(EXERCISES_URL, os.path.basename(EXERCISES_URL))"
      ]
    },
    {
      "cell_type": "code",
      "execution_count": null,
      "metadata": {},
      "outputs": [],
      "source": [
        "# import exercises and utility functions\n",
        "from data2day_exercises_en import *"
      ]
    },
    {
      "cell_type": "markdown",
      "metadata": {
        "id": "M6SrEeCgd3D0"
      },
      "source": [
        "## Data Loading\n",
        "\n",
        "Polars supports different formats when loading data into a dataframe:\n",
        "\n",
        "- CSV (`read_csv`, `read_csv_batched`)\n",
        "- Apache Parquet (`read_parquet`)\n",
        "- Databricks Delta (`read_delta`)\n",
        "- SQL-Datenbanken (`read_database`, `read_database_uri`)\n",
        "- JSON (`read_json`, `read_ndjson`)\n",
        "- Microsoft Excel (`read_excel`)\n",
        "- Apache OpenOffice (`read_ods`)\n",
        "- Apache Avro (`read_avro`)\n",
        "- Apache IPC (`read_ipc`, `read_ipc_stream`)\n",
        "- Apache Iceberg"
      ]
    },
    {
      "cell_type": "markdown",
      "metadata": {
        "id": "Il5WKnLniLwn"
      },
      "source": [
        "We first load a CSV file"
      ]
    },
    {
      "cell_type": "code",
      "execution_count": null,
      "metadata": {
        "colab": {
          "base_uri": "https://localhost:8080/",
          "height": 159
        },
        "id": "rXOzj-nmV_oz",
        "outputId": "d1ab5602-71eb-4755-dace-a4c0d057679f"
      },
      "outputs": [],
      "source": [
        "# load a CSV file\n",
        "df = pl.read_csv(\"spotify-charts-2017-2021-global-top200.csv.gz\")\n",
        "df.head(2) # output the first 2 rows"
      ]
    },
    {
      "cell_type": "markdown",
      "metadata": {
        "id": "Dwn4BiO2jAGK"
      },
      "source": [
        "The file contains the daily Spotify charts. The following information is included:\n",
        "\n",
        "- `title`: title of the song\n",
        "- `rank`: ranking in the charts\n",
        "- `date`: day on which the chart was compiled\n",
        "- `artist`: band or artists performing the song\n",
        "- url`: URL where the song can be heard on Spotify\n",
        "- region`: region or country for which the charts were collected\n",
        "- chart`: name or type of the charts\n",
        "- trend`: development of the song's ranking compared to the previous day\n",
        "- streams`: number of streams of the song on that day\n",
        "\n",
        "In each column, under the column name, you can see the data type of the column. The date column was read in as a string (`str`), this can be corrected using the `try_parse_dates` option."
      ]
    },
    {
      "cell_type": "code",
      "execution_count": null,
      "metadata": {
        "colab": {
          "base_uri": "https://localhost:8080/",
          "height": 159
        },
        "id": "5rAxnZwDhEvv",
        "outputId": "5e7baa00-1710-4208-aff6-8951fcc4e4bd"
      },
      "outputs": [],
      "source": [
        "# Load data from CSV file and parse date columns\n",
        "df = pl.read_csv(\"spotify-charts-2017-2021-global-top200.csv.gz\", try_parse_dates=True)\n",
        "df.head(2) # output the first 2 rows"
      ]
    },
    {
      "cell_type": "markdown",
      "metadata": {
        "id": "PX938UFjl1xJ"
      },
      "source": [
        "## Projection (select columns)\n",
        "\n",
        "If not all columns of a dataframe are needed, certain columns can be selected with the `select` method."
      ]
    },
    {
      "cell_type": "code",
      "execution_count": null,
      "metadata": {
        "colab": {
          "base_uri": "https://localhost:8080/",
          "height": 159
        },
        "id": "tNer2czOl0u4",
        "outputId": "90512203-419f-43c6-d211-f6c8961a7717"
      },
      "outputs": [],
      "source": [
        "df.select(\"title\", \"artist\", \"url\", \"streams\").head(2)"
      ]
    },
    {
      "cell_type": "markdown",
      "metadata": {
        "id": "l8jl6qGO87Oe"
      },
      "source": [
        "## Generalized projection (change or add columns)\n",
        "\n",
        "With the help of expressions we can change columns or add new columns.\n",
        "\n",
        "A column can be referenced with the `pl.col` method specifying the column name."
      ]
    },
    {
      "cell_type": "code",
      "execution_count": null,
      "metadata": {
        "colab": {
          "base_uri": "https://localhost:8080/",
          "height": 159
        },
        "id": "ns5csBhT86R3",
        "outputId": "1f75ce90-8231-4572-e611-dd9b12809cd6"
      },
      "outputs": [],
      "source": [
        "df.select(\"title\", \"artist\", pl.col(\"url\"), pl.col(\"streams\")).head(2)"
      ]
    },
    {
      "cell_type": "markdown",
      "metadata": {
        "id": "VwyfHvmI-VB4"
      },
      "source": [
        "In order to get smaller numbers, we can specify, for example, the number of streams in thousands."
      ]
    },
    {
      "cell_type": "code",
      "execution_count": null,
      "metadata": {
        "colab": {
          "base_uri": "https://localhost:8080/",
          "height": 159
        },
        "id": "xvlHdvV3-od_",
        "outputId": "ca282712-5b26-4706-c8bf-948eafe1502d"
      },
      "outputs": [],
      "source": [
        "# Division with the \"/\" operator converts to floating point\n",
        "df.select(pl.col(\"title\"), pl.col(\"artist\"), pl.col(\"url\"), pl.col(\"streams\")/1000).head(2)"
      ]
    },
    {
      "cell_type": "code",
      "execution_count": null,
      "metadata": {
        "colab": {
          "base_uri": "https://localhost:8080/",
          "height": 159
        },
        "id": "LpHfzdkmN1qO",
        "outputId": "d3ce6de2-c77f-462d-a155-97d819bd0ffd"
      },
      "outputs": [],
      "source": [
        "# Alternative with \"floordiv\", mixed notation with pure column name and pl.col is also possible\n",
        "df.select(\"title\", \"artist\", \"url\", pl.col(\"streams\").floordiv(1000)).head(2)"
      ]
    },
    {
      "cell_type": "markdown",
      "metadata": {
        "id": "tioQUY6m_99j"
      },
      "source": [
        "In addition to standard operators such as `+`, `-`, `*` and `/`, a variety of expressions for calculations with numbers is available:\n",
        "\n",
        "- https://pola-rs.github.io/polars/py-polars/html/reference/expressions/computation.html\n",
        "- https://pola-rs.github.io/polars/py-polars/html/reference/expressions/operators.html"
      ]
    },
    {
      "cell_type": "markdown",
      "metadata": {
        "id": "fXxhLIalAjmO"
      },
      "source": [
        "There are also many functions for the manipulation of strings. These are addressed via their own namespace `str`.\n",
        "\n",
        "- https://pola-rs.github.io/polars/py-polars/html/reference/expressions/string.html\n",
        "\n",
        "A selection of commonly used functions for strings:\n",
        "\n",
        "- `str.starts_with`, `str.ends_with`, `str.contains`\n",
        "- `str.slice`\n",
        "- `str.replace`\n",
        "- `str.to_date`, `str.to_datetime`\n",
        "- `str.split`\n",
        "- `str.strip_chars`\n",
        "- `str.n_chars`"
      ]
    },
    {
      "cell_type": "code",
      "execution_count": null,
      "metadata": {
        "colab": {
          "base_uri": "https://localhost:8080/",
          "height": 159
        },
        "id": "BE-zbrlPBDtJ",
        "outputId": "5d89d0e1-1d96-469e-b2ea-ce5c9a31872f"
      },
      "outputs": [],
      "source": [
        "df.select(pl.col(\"title\").str.to_uppercase(), \"artist\", \"url\", \"streams\").head(2)"
      ]
    },
    {
      "cell_type": "markdown",
      "metadata": {
        "id": "UT6Sh52TBv9L"
      },
      "source": [
        "In order not to always have to list all columns that are not transformed at all, the function `with_columns` can be used."
      ]
    },
    {
      "cell_type": "code",
      "execution_count": null,
      "metadata": {
        "colab": {
          "base_uri": "https://localhost:8080/",
          "height": 159
        },
        "id": "679lOBitBvt3",
        "outputId": "efa7e7bf-705e-4b4c-ba02-93058a632b18"
      },
      "outputs": [],
      "source": [
        "# with_columns corresponds to select supplemented by all missing columns\n",
        "df.with_columns(pl.col(\"title\").str.to_uppercase()).head(2)"
      ]
    },
    {
      "cell_type": "markdown",
      "metadata": {
        "id": "jVcWFju0CdUK"
      },
      "source": [
        "So far we have not added any columns. A new column will be created if we specify a name that does not exist yet. We can use the following methods for this:\n",
        "\n",
        "- `alias` for a completely new name\n",
        "- `prefix`/`suffix` to add a prefix/suffix to the existing name"
      ]
    },
    {
      "cell_type": "code",
      "execution_count": null,
      "metadata": {
        "colab": {
          "base_uri": "https://localhost:8080/",
          "height": 159
        },
        "id": "Qz7f6M21BvFx",
        "outputId": "c355cb16-6c0e-49b1-9873-052a6ef38fd0"
      },
      "outputs": [],
      "source": [
        "# Extract trackId from the URL\n",
        "df.select(\"title\", \"url\").with_columns(pl.col(\"url\").str.slice(len(\"https://open.spotify.com/track/\")).alias(\"trackId\"), pl.col(\"title\").str.to_uppercase().suffix(\"_uppercase\")).head(2)"
      ]
    },
    {
      "cell_type": "markdown",
      "metadata": {
        "id": "0kSJVVKuDyEf"
      },
      "source": [
        "If the entire query becomes too long, it should be bracketed and structured with breaks. In this way, a typical \"query pipeline\" is created that can be read from top to bottom."
      ]
    },
    {
      "cell_type": "code",
      "execution_count": null,
      "metadata": {
        "colab": {
          "base_uri": "https://localhost:8080/",
          "height": 159
        },
        "id": "zPKtNzUZDj4m",
        "outputId": "63ad3bf3-6069-48a4-f5a5-1ce050c4a382"
      },
      "outputs": [],
      "source": [
        "(df\n",
        "  .select(\"title\", \"url\")\n",
        "  .with_columns(\n",
        "    pl.col(\"url\").str.slice(len(\"https://open.spotify.com/track/\")).alias(\"trackId\"),\n",
        "    pl.col(\"title\").str.to_uppercase().suffix(\"_uppercase\")\n",
        "  )\n",
        "  .head(2)\n",
        ")"
      ]
    },
    {
      "cell_type": "markdown",
      "metadata": {},
      "source": [
        "We can also use aggregating function like `min`, `max`, `sum`, `mean`, `median`, etc. in `select`, which will give us an aggregation. If we use a column more than once, we have to be careful to give it an appropriate name. Either with `alias` or with `suffix`."
      ]
    },
    {
      "cell_type": "code",
      "execution_count": null,
      "metadata": {},
      "outputs": [],
      "source": [
        "# Determine period for which data is available\n",
        "df.select(pl.col(\"date\").min().suffix(\"_min\"), pl.col(\"date\").max().suffix(\"_max\"))"
      ]
    },
    {
      "cell_type": "markdown",
      "metadata": {
        "id": "tT7PUSwYsah9"
      },
      "source": [
        "## Selection/Filter\n",
        "\n",
        "With the help of the selection, the data set can be filtered to specific data sets."
      ]
    },
    {
      "cell_type": "markdown",
      "metadata": {
        "id": "YTxpB2hQYMgF"
      },
      "source": [
        "For a quick overview the methods `head`, `tail` and `sample` can be used."
      ]
    },
    {
      "cell_type": "code",
      "execution_count": null,
      "metadata": {
        "colab": {
          "base_uri": "https://localhost:8080/",
          "height": 159
        },
        "id": "EM0qTFDaYZNm",
        "outputId": "55e0ca48-abc3-498b-ae8d-2175d18b8abe"
      },
      "outputs": [],
      "source": [
        "# the first two rows\n",
        "df.head(2)"
      ]
    },
    {
      "cell_type": "code",
      "execution_count": null,
      "metadata": {
        "colab": {
          "base_uri": "https://localhost:8080/",
          "height": 159
        },
        "id": "Erw5AiusmLfk",
        "outputId": "f47791cb-3819-4c77-cbe1-6085958a2af1"
      },
      "outputs": [],
      "source": [
        "# the last two rows\n",
        "df.tail(2)"
      ]
    },
    {
      "cell_type": "code",
      "execution_count": null,
      "metadata": {
        "colab": {
          "base_uri": "https://localhost:8080/",
          "height": 159
        },
        "id": "lA17klhjmO9l",
        "outputId": "a4850ded-2a03-4972-fc31-f5f2906aa135"
      },
      "outputs": [],
      "source": [
        "# two random rows (absolute with parameter \"n\" or relative with parameter \"fraction\")\n",
        "df.sample(n=2)\n",
        "df.sample(fraction=2/len(df)) # 2/362182 ≈ 0.000006is equivalent here to n=2"
      ]
    },
    {
      "cell_type": "markdown",
      "metadata": {
        "id": "FxZz1CHCfeKk"
      },
      "source": [
        "The rows with the largest or smallest value in a column can be selected with the functions 'top_k' and 'bottom_k'."
      ]
    },
    {
      "cell_type": "code",
      "execution_count": null,
      "metadata": {
        "colab": {
          "base_uri": "https://localhost:8080/",
          "height": 128
        },
        "id": "muysGH4Lfd00",
        "outputId": "b39a44fe-d8a8-413c-b413-1ede76e8903b"
      },
      "outputs": [],
      "source": [
        "# the most streamed song on Spotify in one day worldwide: Easy On Me by Adele\n",
        "df.top_k(1, by=\"streams\")"
      ]
    },
    {
      "cell_type": "markdown",
      "metadata": {},
      "source": [
        "We can listen to that one, too."
      ]
    },
    {
      "cell_type": "code",
      "execution_count": null,
      "metadata": {},
      "outputs": [],
      "source": [
        "# plays a preview of the song with Spotify. If there are multiple songs in the dataframe, a row number can be specified.\n",
        "play_song(df.top_k(1, by=\"streams\"))"
      ]
    },
    {
      "cell_type": "markdown",
      "metadata": {
        "id": "crTgpgUfYKLm"
      },
      "source": [
        "Rows can be selected precisely using the `filter` method and a Boolean expression. For example, we can select all records of a particular artist."
      ]
    },
    {
      "cell_type": "code",
      "execution_count": null,
      "metadata": {
        "colab": {
          "base_uri": "https://localhost:8080/",
          "height": 159
        },
        "id": "VfB4KMiosMi-",
        "outputId": "903fef4b-2ed3-4164-d7f7-92fcb180a187"
      },
      "outputs": [],
      "source": [
        "# two rows for the singer \"Adele\".\n",
        "# eq stands for equals\n",
        "df.filter(pl.col(\"artist\").eq(\"Adele\")).head(2)"
      ]
    },
    {
      "cell_type": "markdown",
      "metadata": {
        "id": "y0MXpvxOg9CJ"
      },
      "source": [
        "An overview of important operators:\n",
        "- Equal (`==`): `eq`\n",
        "- Not Equal (`!=`): `ne`.\n",
        "- Greater Than (`>`, `>=`): `gt`, `ge`\n",
        "- Less Than (`<`, `<=`): `lt`, `le`\n",
        "- Between: `is_between`\n",
        "- Equal to one of a set: `is_in`."
      ]
    },
    {
      "cell_type": "markdown",
      "metadata": {
        "id": "pVPXaj_5u3up"
      },
      "source": [
        "Logical expressions can be linked with:\n",
        "- conjunction/AND: `&`\n",
        "- disjunction/OR: `|`\n",
        "- Contravalence/XOR: `^`\n",
        "- Negation/NOT: `~`"
      ]
    },
    {
      "cell_type": "code",
      "execution_count": null,
      "metadata": {
        "colab": {
          "base_uri": "https://localhost:8080/",
          "height": 159
        },
        "id": "qzUmibLRleYW",
        "outputId": "4a3db116-c804-4468-f51f-619dac4c7242"
      },
      "outputs": [],
      "source": [
        "# two entries for the song \"Easy On Me\" by Adele with more than 3 million streams in one day\n",
        "df.filter(pl.col(\"artist\").eq(\"Adele\") & pl.col(\"title\").eq(\"Easy On Me\") & pl.col(\"streams\").gt(3_000_000)).head(2)"
      ]
    },
    {
      "cell_type": "markdown",
      "metadata": {
        "id": "K2mdLRMHGSAn"
      },
      "source": [
        "Instead of the operators `eq` and `gt` it would also be possible to use the standard Python operators `==` and `>`. But then all logical subexpressions have to be compounded. What you prefer is in the end a matter of taste 😁"
      ]
    },
    {
      "cell_type": "code",
      "execution_count": null,
      "metadata": {
        "colab": {
          "base_uri": "https://localhost:8080/",
          "height": 159
        },
        "id": "J8cWUks0GRQf",
        "outputId": "ecaab432-c402-4508-f6f5-df4378898b0f"
      },
      "outputs": [],
      "source": [
        "df.filter(pl.col(\"artist\").eq(\"Adele\") & pl.col(\"title\").eq(\"Easy On Me\") & pl.col(\"streams\").gt(3_000_000)).head(2)\n",
        "df.filter((pl.col(\"artist\") == \"Adele\") & (pl.col(\"title\") == \"Easy On Me\") & (pl.col(\"streams\") > 3_000_000)).head(2)"
      ]
    },
    {
      "cell_type": "markdown",
      "metadata": {
        "id": "ypZ2Nfx0eoUZ"
      },
      "source": [
        "For a comparison with a specific date, the date can be generated with the function `pl.date`."
      ]
    },
    {
      "cell_type": "code",
      "execution_count": null,
      "metadata": {
        "colab": {
          "base_uri": "https://localhost:8080/",
          "height": 193
        },
        "id": "APJNl6RbenKh",
        "outputId": "283bafec-5039-4c82-c138-5c89aa3e873e"
      },
      "outputs": [],
      "source": [
        "# two entries for May 1, 2017\n",
        "df.filter(pl.col(\"date\").eq(pl.date(2017, 5, 1))).head(2)"
      ]
    },
    {
      "cell_type": "code",
      "execution_count": null,
      "metadata": {
        "colab": {
          "base_uri": "https://localhost:8080/",
          "height": 283
        },
        "id": "ZIeSt6bIg199",
        "outputId": "14e43964-df5f-4d99-88c5-52b763185ffb"
      },
      "outputs": [],
      "source": [
        "# the ranks 5 to 10 for July 19, 2018\n",
        "df.filter(pl.col(\"date\").eq(pl.date(2018, 7, 19)) & pl.col(\"rank\").is_between(5, 10))"
      ]
    },
    {
      "cell_type": "markdown",
      "metadata": {},
      "source": [
        "We can also plot daily streams or ranks with a helper function."
      ]
    },
    {
      "cell_type": "code",
      "execution_count": null,
      "metadata": {},
      "outputs": [],
      "source": [
        "some_song_df = df.filter(pl.col(\"artist\").eq(\"Juice WRLD\") & pl.col(\"title\").eq(\"Lucid Dreams\"))"
      ]
    },
    {
      "cell_type": "code",
      "execution_count": null,
      "metadata": {},
      "outputs": [],
      "source": [
        "plot_streams(some_song_df)"
      ]
    },
    {
      "cell_type": "code",
      "execution_count": null,
      "metadata": {},
      "outputs": [],
      "source": [
        "plot_rank(some_song_df)"
      ]
    },
    {
      "cell_type": "markdown",
      "metadata": {},
      "source": [
        "## Exercises on projection and selection\n",
        "\n",
        "You can do the exercise right here in the notebook. For each exercise there is an object (`q1`, `q2`, `q3`, ...) that contains the question, a hint, an answer check and the solution."
      ]
    },
    {
      "cell_type": "code",
      "execution_count": null,
      "metadata": {},
      "outputs": [],
      "source": [
        "# The method \"question\" prints the question.\n",
        "q0.question()"
      ]
    },
    {
      "cell_type": "code",
      "execution_count": null,
      "metadata": {},
      "outputs": [],
      "source": [
        "# Then there is always a cell with a hint in which variables the solution should be written.\n",
        "# Feel free to create more cells to inspect your solution more closely.\n",
        "awesome_company = ..."
      ]
    },
    {
      "cell_type": "code",
      "execution_count": null,
      "metadata": {},
      "outputs": [],
      "source": [
        "# the method \"check\" checks a solution\n",
        "q0.check(awesome_company)"
      ]
    },
    {
      "cell_type": "code",
      "execution_count": null,
      "metadata": {},
      "outputs": [],
      "source": [
        "# the \"hint\" method displays a hint\n",
        "q0.hint()"
      ]
    },
    {
      "cell_type": "code",
      "execution_count": null,
      "metadata": {},
      "outputs": [],
      "source": [
        "# the \"solution\" method prints the solution\n",
        "q0.solution()"
      ]
    },
    {
      "cell_type": "markdown",
      "metadata": {},
      "source": [
        "Now it's your turn with the real exercises!"
      ]
    },
    {
      "cell_type": "markdown",
      "metadata": {},
      "source": [
        "### Question 1"
      ]
    },
    {
      "cell_type": "code",
      "execution_count": null,
      "metadata": {},
      "outputs": [],
      "source": [
        "q1.question()"
      ]
    },
    {
      "cell_type": "code",
      "execution_count": null,
      "metadata": {},
      "outputs": [],
      "source": [
        "q1_df = ..."
      ]
    },
    {
      "cell_type": "code",
      "execution_count": null,
      "metadata": {},
      "outputs": [],
      "source": [
        "q1.check(q1_df)\n",
        "#q1.hint()\n",
        "#q1.solution()"
      ]
    },
    {
      "cell_type": "markdown",
      "metadata": {},
      "source": [
        "### Question 2"
      ]
    },
    {
      "cell_type": "code",
      "execution_count": null,
      "metadata": {},
      "outputs": [],
      "source": [
        "q2.question()"
      ]
    },
    {
      "cell_type": "code",
      "execution_count": null,
      "metadata": {},
      "outputs": [],
      "source": [
        "q2_df = ..."
      ]
    },
    {
      "cell_type": "code",
      "execution_count": null,
      "metadata": {},
      "outputs": [],
      "source": [
        "q2.check(q2_df)"
      ]
    },
    {
      "cell_type": "markdown",
      "metadata": {},
      "source": [
        "### Question 3"
      ]
    },
    {
      "cell_type": "code",
      "execution_count": null,
      "metadata": {},
      "outputs": [],
      "source": [
        "q3.question()"
      ]
    },
    {
      "cell_type": "code",
      "execution_count": null,
      "metadata": {},
      "outputs": [],
      "source": [
        "q3_df = ..."
      ]
    },
    {
      "cell_type": "code",
      "execution_count": null,
      "metadata": {},
      "outputs": [],
      "source": [
        "q3.check(q3_df)"
      ]
    },
    {
      "cell_type": "markdown",
      "metadata": {},
      "source": [
        "### Question 4"
      ]
    },
    {
      "cell_type": "code",
      "execution_count": null,
      "metadata": {},
      "outputs": [],
      "source": [
        "q4.question()"
      ]
    },
    {
      "cell_type": "code",
      "execution_count": null,
      "metadata": {},
      "outputs": [],
      "source": [
        "rank_1 = ...\n",
        "rank_200 = ..."
      ]
    },
    {
      "cell_type": "code",
      "execution_count": null,
      "metadata": {},
      "outputs": [],
      "source": [
        "q4.check(rank_1, rank_200)"
      ]
    },
    {
      "cell_type": "markdown",
      "metadata": {},
      "source": [
        "### Question 5"
      ]
    },
    {
      "cell_type": "code",
      "execution_count": null,
      "metadata": {},
      "outputs": [],
      "source": [
        "q5.question()"
      ]
    },
    {
      "cell_type": "code",
      "execution_count": null,
      "metadata": {},
      "outputs": [],
      "source": [
        "q5_df = ..."
      ]
    },
    {
      "cell_type": "code",
      "execution_count": null,
      "metadata": {},
      "outputs": [],
      "source": [
        "q5.check(q5_df)"
      ]
    },
    {
      "cell_type": "markdown",
      "metadata": {},
      "source": [
        "### Question 6"
      ]
    },
    {
      "cell_type": "code",
      "execution_count": null,
      "metadata": {
        "id": "6cKn59GmENFt"
      },
      "outputs": [],
      "source": [
        "q6.question()"
      ]
    },
    {
      "cell_type": "code",
      "execution_count": null,
      "metadata": {},
      "outputs": [],
      "source": [
        "q6_df = ..."
      ]
    },
    {
      "cell_type": "code",
      "execution_count": null,
      "metadata": {},
      "outputs": [],
      "source": [
        "q6.check(q6_df)"
      ]
    },
    {
      "cell_type": "markdown",
      "metadata": {},
      "source": [
        "## Series\n",
        "\n",
        "Normally we always work on a dataframe. For the sake of completeness, however, it should be mentioned that there is a `series` data type for the individual columns. With the method `get_column` or the subset operator `[]` a column can be retrieved from a dataframe."
      ]
    },
    {
      "cell_type": "code",
      "execution_count": null,
      "metadata": {},
      "outputs": [],
      "source": [
        "df.head(2).get_column(\"title\")"
      ]
    },
    {
      "cell_type": "code",
      "execution_count": null,
      "metadata": {},
      "outputs": [],
      "source": [
        "df.head(2)[\"title\"]"
      ]
    },
    {
      "cell_type": "code",
      "execution_count": null,
      "metadata": {},
      "outputs": [],
      "source": [
        "type(df.get_column(\"title\"))"
      ]
    },
    {
      "cell_type": "markdown",
      "metadata": {},
      "source": [
        "## Data types\n",
        "\n",
        "Polars can store many different types of data in one column.\n",
        "\n",
        "### Numbers and Boolean values\n",
        "\n",
        "- `Int8`, `Int16`, `Int32`, `Int64`: integer number\n",
        "- `Float32`, `Float64`: floating point number\n",
        "- `UInt8`, `UInt16`, `UInt32`, `UInt64`: unsigned integer number\n",
        "- `Decimal`: 128-bit floating point number with high precision, experimental\n",
        "- `Boolean`: logical/boolean value"
      ]
    },
    {
      "cell_type": "markdown",
      "metadata": {},
      "source": [
        "Numbers are created in Polars as 64-bit data types unless otherwise stated."
      ]
    },
    {
      "cell_type": "markdown",
      "metadata": {},
      "source": [
        "A column can be converted to another data type with the function 'cast', e.g. to save memory space."
      ]
    },
    {
      "cell_type": "code",
      "execution_count": null,
      "metadata": {},
      "outputs": [],
      "source": [
        "# Default data type is Int64 or Float64 for numbers\n",
        "df.select(pl.col(\"streams\")).head(2)"
      ]
    },
    {
      "cell_type": "code",
      "execution_count": null,
      "metadata": {},
      "outputs": [],
      "source": [
        "# throws an error because some values are too large for Int16\n",
        "try:\n",
        "    df.select(pl.col(\"streams\").cast(pl.Int16)).head(2)\n",
        "except pl.ComputeError as e:\n",
        "    print(e.args)\n"
      ]
    },
    {
      "cell_type": "code",
      "execution_count": null,
      "metadata": {},
      "outputs": [],
      "source": [
        "# does not throw an error because Int32 is sufficiently large\n",
        "df.select(pl.col(\"streams\").cast(pl.Int32)).head(2)"
      ]
    },
    {
      "cell_type": "markdown",
      "metadata": {},
      "source": [
        "Attention before you convert everything to the smallest possible datatype: with 32-bit datatypes overflows can occur during calculations for which no warning is issued!"
      ]
    },
    {
      "cell_type": "code",
      "execution_count": null,
      "metadata": {},
      "outputs": [],
      "source": [
        "print(f'Number of total streams with Int64 is {df.select(pl.col(\"streams\").sum()).item()}')\n",
        "print(f'Number of total streams with Int32 is {df.select(pl.col(\"streams\").cast(pl.Int32).sum()).item()}')"
      ]
    },
    {
      "cell_type": "markdown",
      "metadata": {},
      "source": [
        "With the method `shrink_dtype` the memory consumption can be reduced to some extent also in an automated fashion. However, this never changes from \"signed\" to \"unsigned\" data types, even if no negative data is present."
      ]
    },
    {
      "cell_type": "code",
      "execution_count": null,
      "metadata": {},
      "outputs": [],
      "source": [
        "df.select(pl.col(\"rank\").shrink_dtype()).head(2)"
      ]
    },
    {
      "cell_type": "markdown",
      "metadata": {},
      "source": [
        "### Date and time\n",
        "\n",
        "- `Date`: Date\n",
        "- `Time`: Time\n",
        "- `Datetime`: Time\n",
        "- `Duration`: Time duration"
      ]
    },
    {
      "cell_type": "markdown",
      "metadata": {},
      "source": [
        "You can extract components from data and times using the namespace `dt`."
      ]
    },
    {
      "cell_type": "code",
      "execution_count": null,
      "metadata": {},
      "outputs": [],
      "source": [
        "(df\n",
        "    .select(\"date\")\n",
        "    .with_columns(\n",
        "        pl.col(\"date\").dt.year().alias(\"year\"),\n",
        "        pl.col(\"date\").dt.quarter().alias(\"quarter\"),\n",
        "        pl.col(\"date\").dt.month().alias(\"month\"),\n",
        "        pl.col(\"date\").dt.week().alias(\"week\"),\n",
        "        pl.col(\"date\").dt.weekday().alias(\"weekday\"), # Monday == 1, Sunday == 7\n",
        "        pl.col(\"date\").dt.day().alias(\"day\"),\n",
        "    )\n",
        "    .sample(5)\n",
        ")"
      ]
    },
    {
      "cell_type": "markdown",
      "metadata": {},
      "source": [
        "We can also subtract dates from each other or add or subtract a period of time (`offset_by`)."
      ]
    },
    {
      "cell_type": "code",
      "execution_count": null,
      "metadata": {},
      "outputs": [],
      "source": [
        "(df\n",
        "    .select(\"date\")\n",
        "    .with_columns(\n",
        "        (pl.col(\"date\").dt.month_end() - pl.col(\"date\")).alias(\"days_till_month_end\"),\n",
        "        pl.col(\"date\").dt.offset_by(\"1w\").alias(\"same_day_next_week\")\n",
        "    )\n",
        "    .sample(5)\n",
        ")"
      ]
    },
    {
      "cell_type": "code",
      "execution_count": null,
      "metadata": {},
      "outputs": [],
      "source": [
        "(df\n",
        "    .filter(pl.col(\"date\").eq(pl.col(\"date\").dt.month_end()))\n",
        "    .select(\"date\", pl.col(\"artist\"))\n",
        "    .sample(5)\n",
        ")"
      ]
    },
    {
      "cell_type": "markdown",
      "metadata": {},
      "source": [
        "### Character strings\n",
        "\n",
        "- `Utf8`: any character string\n",
        "- `Categorical`: character string encoded as category\n",
        "\n",
        "### Structures\n",
        "\n",
        "- `List`: List with variable length per row\n",
        "- `Array`: list with fixed length in all rows, e.g. coordinates\n",
        "- `Struct`: named fields\n",
        "\n",
        "### Other\n",
        "\n",
        "- `Binary`: binary data\n",
        "- `Object`: any Python object"
      ]
    },
    {
      "cell_type": "markdown",
      "metadata": {},
      "source": [
        "## Sort\n",
        "\n",
        "The `sort` method makes it easy to sort dataframes."
      ]
    },
    {
      "cell_type": "code",
      "execution_count": null,
      "metadata": {},
      "outputs": [],
      "source": [
        "df.sort(\"rank\").head(3)"
      ]
    },
    {
      "cell_type": "code",
      "execution_count": null,
      "metadata": {},
      "outputs": [],
      "source": [
        "df.sort(\"streams\", descending=True).head(3)"
      ]
    },
    {
      "cell_type": "code",
      "execution_count": null,
      "metadata": {},
      "outputs": [],
      "source": [
        "df.sort([\"rank\", \"streams\"], descending=[False, True]).head(3)"
      ]
    },
    {
      "cell_type": "markdown",
      "metadata": {},
      "source": [
        "## Write data\n",
        "\n",
        "A dataframe can be written to a file in various formats using the `write_*` methods."
      ]
    },
    {
      "cell_type": "code",
      "execution_count": null,
      "metadata": {},
      "outputs": [],
      "source": [
        "df_2020 = df.filter(pl.col(\"date\").dt.year().eq(2020))"
      ]
    },
    {
      "cell_type": "code",
      "execution_count": null,
      "metadata": {},
      "outputs": [],
      "source": [
        "# as CSV (approx. 9 MB)\n",
        "df_2020.write_csv(\"2020_write_test.csv\", )"
      ]
    },
    {
      "cell_type": "code",
      "execution_count": null,
      "metadata": {},
      "outputs": [],
      "source": [
        "# as compressed CSV (approx. 2 MB)\n",
        "import gzip\n",
        "\n",
        "with gzip.open(\"2020_write_test.csv.gz\", \"wb\") as f:\n",
        "    df_2020.write_csv(f)"
      ]
    },
    {
      "cell_type": "code",
      "execution_count": null,
      "metadata": {},
      "outputs": [],
      "source": [
        "# as Apache Parquet (approx. 1 MB)\n",
        "df_2020.write_parquet(\"2020_write_test.parquet\")"
      ]
    },
    {
      "cell_type": "code",
      "execution_count": null,
      "metadata": {},
      "outputs": [],
      "source": [
        "!ls -l 2020_write_test*"
      ]
    },
    {
      "cell_type": "markdown",
      "metadata": {},
      "source": [
        "## Optional exercises"
      ]
    },
    {
      "cell_type": "markdown",
      "metadata": {},
      "source": [
        "### Question 7"
      ]
    },
    {
      "cell_type": "code",
      "execution_count": null,
      "metadata": {},
      "outputs": [],
      "source": [
        "q7.question()"
      ]
    },
    {
      "cell_type": "code",
      "execution_count": null,
      "metadata": {},
      "outputs": [],
      "source": [
        "q7_df = ..."
      ]
    },
    {
      "cell_type": "code",
      "execution_count": null,
      "metadata": {},
      "outputs": [],
      "source": [
        "q7.check(q7_df)"
      ]
    },
    {
      "cell_type": "markdown",
      "metadata": {},
      "source": [
        "### Question 8"
      ]
    },
    {
      "cell_type": "code",
      "execution_count": null,
      "metadata": {},
      "outputs": [],
      "source": [
        "q8.question()"
      ]
    },
    {
      "cell_type": "code",
      "execution_count": null,
      "metadata": {},
      "outputs": [],
      "source": [
        "q8_monday = ...\n",
        "q8_friday = ..."
      ]
    },
    {
      "cell_type": "code",
      "execution_count": null,
      "metadata": {},
      "outputs": [],
      "source": [
        "q8.check(q8_monday, q8_friday)"
      ]
    },
    {
      "cell_type": "markdown",
      "metadata": {},
      "source": [
        "### Question 9"
      ]
    },
    {
      "cell_type": "code",
      "execution_count": null,
      "metadata": {},
      "outputs": [],
      "source": [
        "q9.question()"
      ]
    },
    {
      "cell_type": "code",
      "execution_count": null,
      "metadata": {},
      "outputs": [],
      "source": [
        "q9_df = ..."
      ]
    },
    {
      "cell_type": "code",
      "execution_count": null,
      "metadata": {},
      "outputs": [],
      "source": [
        "q9.check(q9_df)"
      ]
    },
    {
      "cell_type": "markdown",
      "metadata": {},
      "source": [
        "### Question 10"
      ]
    },
    {
      "cell_type": "code",
      "execution_count": null,
      "metadata": {},
      "outputs": [],
      "source": [
        "q10.question()"
      ]
    },
    {
      "cell_type": "code",
      "execution_count": null,
      "metadata": {},
      "outputs": [],
      "source": [
        "q10_df = ..."
      ]
    },
    {
      "cell_type": "code",
      "execution_count": null,
      "metadata": {},
      "outputs": [],
      "source": [
        "q10.check(q10_df)"
      ]
    },
    {
      "cell_type": "markdown",
      "metadata": {},
      "source": [
        "### Question 11"
      ]
    },
    {
      "cell_type": "code",
      "execution_count": null,
      "metadata": {},
      "outputs": [],
      "source": [
        "q11.question()"
      ]
    },
    {
      "cell_type": "code",
      "execution_count": null,
      "metadata": {},
      "outputs": [],
      "source": [
        "q11_ohne_zedd = ...\n",
        "q11_mit_zedd = ..."
      ]
    },
    {
      "cell_type": "code",
      "execution_count": null,
      "metadata": {},
      "outputs": [],
      "source": [
        "q11.check(q11_ohne_zedd, q11_mit_zedd)"
      ]
    },
    {
      "cell_type": "markdown",
      "metadata": {},
      "source": [
        "### Question 12"
      ]
    },
    {
      "cell_type": "code",
      "execution_count": null,
      "metadata": {},
      "outputs": [],
      "source": [
        "q12.question()"
      ]
    },
    {
      "cell_type": "code",
      "execution_count": null,
      "metadata": {},
      "outputs": [],
      "source": [
        "q12_df = ..."
      ]
    },
    {
      "cell_type": "code",
      "execution_count": null,
      "metadata": {},
      "outputs": [],
      "source": [
        "q12.check(df, q12_df)"
      ]
    }
  ],
  "metadata": {
    "colab": {
      "provenance": []
    },
    "kernelspec": {
      "display_name": "Python 3",
      "name": "python3"
    },
    "language_info": {
      "codemirror_mode": {
        "name": "ipython",
        "version": 3
      },
      "file_extension": ".py",
      "mimetype": "text/x-python",
      "name": "python",
      "nbconvert_exporter": "python",
      "pygments_lexer": "ipython3",
      "version": "3.10.11"
    }
  },
  "nbformat": 4,
  "nbformat_minor": 0
}
