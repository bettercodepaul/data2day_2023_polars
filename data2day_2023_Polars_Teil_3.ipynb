{
  "cells": [
    {
      "cell_type": "markdown",
      "metadata": {
        "id": "tvvEvKzsWboV"
      },
      "source": [
        "<a target=\"_blank\" href=\"https://colab.research.google.com/github/datenzauberai/data2day_2023_polars/blob/main/data2day_2023_Polars_Teil_1.ipynb\">\n",
        "  <img src=\"https://colab.research.google.com/assets/colab-badge.svg\" alt=\"Open In Colab\"/>\n",
        "</a>\n",
        "\n",
        "# Polars: Der Turbo Boost für Dataframes - Teil 3\n",
        "\n",
        "Wichtige Links zur Erinnerung:\n",
        "\n",
        "- Homepage von Polars: https://www.pola.rs/\n",
        "- User-Guide: https://pola-rs.github.io/polars/user-guide/\n",
        "- API-Referenz: https://pola-rs.github.io/polars/py-polars/html/reference/"
      ]
    },
    {
      "cell_type": "markdown",
      "metadata": {
        "id": "2EJKvLC6Z8ve"
      },
      "source": [
        "## Installation + Vorbereitung"
      ]
    },
    {
      "cell_type": "code",
      "execution_count": 1,
      "metadata": {
        "id": "MJ39jUfNjscb"
      },
      "outputs": [],
      "source": [
        "import urllib.request\n",
        "import os.path"
      ]
    },
    {
      "cell_type": "code",
      "execution_count": null,
      "metadata": {
        "colab": {
          "base_uri": "https://localhost:8080/"
        },
        "id": "IL4ogwh-eFM5",
        "outputId": "e4b623c6-7ffc-4785-d222-7c7559e5febf"
      },
      "outputs": [],
      "source": [
        "REQUIREMENTS_URL = \"https://github.com/bettercodepaul/data2day_2023_polars/raw/main/requirements.txt\"\n",
        "urllib.request.urlretrieve(REQUIREMENTS_URL, os.path.basename(REQUIREMENTS_URL))"
      ]
    },
    {
      "cell_type": "code",
      "execution_count": null,
      "metadata": {
        "colab": {
          "base_uri": "https://localhost:8080/"
        },
        "id": "WH4yZSDm1rKj",
        "outputId": "8b2245ec-f31d-490a-fd19-a44c85969576"
      },
      "outputs": [],
      "source": [
        "# nicht vergessen, dass die Laufzeitumgebung ggf. neu gestartet werden muss\n",
        "!pip install -qr requirements.txt"
      ]
    },
    {
      "cell_type": "code",
      "execution_count": 55,
      "metadata": {
        "id": "aeCD6DDzkGYC"
      },
      "outputs": [],
      "source": [
        "import polars as pl"
      ]
    },
    {
      "cell_type": "code",
      "execution_count": 54,
      "metadata": {
        "colab": {
          "base_uri": "https://localhost:8080/"
        },
        "id": "NU9yjICo90O6",
        "outputId": "982b23fd-e81c-494e-9bfc-19f1b3a776f8"
      },
      "outputs": [
        {
          "data": {
            "text/plain": [
              "<polars.config.Config at 0x105a06680>"
            ]
          },
          "execution_count": 54,
          "metadata": {},
          "output_type": "execute_result"
        }
      ],
      "source": [
        "# bis zu 60 Zeichen pro Spalte ausgeben und Fließkommazahlen nicht abkürzen\n",
        "pl.Config(fmt_str_lengths=60, fmt_float=\"full\")"
      ]
    },
    {
      "cell_type": "code",
      "execution_count": 57,
      "metadata": {},
      "outputs": [
        {
          "data": {
            "text/plain": [
              "('spotify-charts-2017-2021.parquet', <http.client.HTTPMessage at 0x105a04ca0>)"
            ]
          },
          "execution_count": 57,
          "metadata": {},
          "output_type": "execute_result"
        }
      ],
      "source": [
        "# CSV-Daten herunterladen\n",
        "CSV_DATA_URL = \"https://github.com/bettercodepaul/data2day_2023_polars/releases/download/data-parquet/spotify-charts-2017-2021.parquet\"\n",
        "LOCAL_CSV_DATA_FILE_NAME = os.path.basename(CSV_DATA_URL)\n",
        "urllib.request.urlretrieve(CSV_DATA_URL, LOCAL_CSV_DATA_FILE_NAME)"
      ]
    },
    {
      "cell_type": "code",
      "execution_count": 56,
      "metadata": {
        "colab": {
          "base_uri": "https://localhost:8080/"
        },
        "id": "jV_0ZZgM16tU",
        "outputId": "4f150400-db52-4826-c1c3-44435bd8f2c9"
      },
      "outputs": [
        {
          "data": {
            "text/plain": [
              "('spotify-charts-2017-2021.parquet', <http.client.HTTPMessage at 0x105a04f40>)"
            ]
          },
          "execution_count": 56,
          "metadata": {},
          "output_type": "execute_result"
        }
      ],
      "source": [
        "# Parquet-Daten herunterladen\n",
        "BIG_DATA_URL = \"https://github.com/bettercodepaul/data2day_2023_polars/releases/download/data-parquet/spotify-charts-2017-2021.parquet\"\n",
        "LOCAL_BIG_DATA_FILE_NAME = os.path.basename(BIG_DATA_URL)\n",
        "urllib.request.urlretrieve(BIG_DATA_URL, LOCAL_BIG_DATA_FILE_NAME)"
      ]
    },
    {
      "cell_type": "code",
      "execution_count": null,
      "metadata": {},
      "outputs": [],
      "source": [
        "# Übungen und Hilfsfunktionen herunterladen\n",
        "EXERCISES_URL = \"https://github.com/bettercodepaul/data2day_2023_polars/raw/main/data2day_exercises.py\"\n",
        "urllib.request.urlretrieve(EXERCISES_URL, os.path.basename(EXERCISES_URL))"
      ]
    },
    {
      "cell_type": "code",
      "execution_count": 58,
      "metadata": {},
      "outputs": [],
      "source": [
        "%load_ext autoreload\n",
        "%autoreload 2"
      ]
    },
    {
      "cell_type": "code",
      "execution_count": 59,
      "metadata": {},
      "outputs": [],
      "source": [
        "from data2day_exercises import *"
      ]
    },
    {
      "cell_type": "markdown",
      "metadata": {
        "id": "M6SrEeCgd3D0"
      },
      "source": [
        "## Lazy vs. Eager\n",
        "\n",
        "Bis jetzt haben wir Polars immer im \"eager mode\" benutzt. Jeder Funktionsaufruf hatte direkt eine Operation auf den Daten zur Folge.\n",
        "\n",
        "Das hat Vorteile beim Debugging von Abfragen, verhindert aber viele Optimierungen, die Polars nur im \"lazy mode\" nutzen kann.\n",
        "\n",
        "Für den \"lazy mode\" gibt es zwei Optionen."
      ]
    },
    {
      "cell_type": "markdown",
      "metadata": {},
      "source": [
        "### Eager Load + Lazy Query"
      ]
    },
    {
      "cell_type": "markdown",
      "metadata": {},
      "source": [
        "Wenn ein Datensatz nicht zu groß ist, können wir ihn vollständig in den Speicher laden, wie wir es schon kennen."
      ]
    },
    {
      "cell_type": "code",
      "execution_count": 77,
      "metadata": {},
      "outputs": [
        {
          "data": {
            "text/plain": [
              "polars.dataframe.frame.DataFrame"
            ]
          },
          "execution_count": 77,
          "metadata": {},
          "output_type": "execute_result"
        }
      ],
      "source": [
        "df = pl.read_csv(\"spotify-charts-2017-2021-global-top200.csv.gz\")\n",
        "type(df)"
      ]
    },
    {
      "cell_type": "markdown",
      "metadata": {},
      "source": [
        "Durch den Aufruf der `lazy` Methode schalten wir dann in den \"lazy mode\". Die Ausführung der Abfrage ist jetzt angehalten und es wird mit jedem weiteren Aufruf nur die Abfrage \"formuliert\"."
      ]
    },
    {
      "cell_type": "code",
      "execution_count": 115,
      "metadata": {},
      "outputs": [
        {
          "data": {
            "text/plain": [
              "polars.lazyframe.frame.LazyFrame"
            ]
          },
          "execution_count": 115,
          "metadata": {},
          "output_type": "execute_result"
        }
      ],
      "source": [
        "lazy_df = df.lazy()\n",
        "type(lazy_df)"
      ]
    },
    {
      "cell_type": "code",
      "execution_count": 116,
      "metadata": {},
      "outputs": [
        {
          "data": {
            "text/html": [
              "<h4>NAIVE QUERY PLAN</h4><p>run <b>LazyFrame.show_graph()</b> to see the optimized version</p><?xml version=\"1.0\" encoding=\"UTF-8\" standalone=\"no\"?>\n",
              "<!DOCTYPE svg PUBLIC \"-//W3C//DTD SVG 1.1//EN\"\n",
              " \"http://www.w3.org/Graphics/SVG/1.1/DTD/svg11.dtd\">\n",
              "<!-- Generated by graphviz version 8.0.5 (20230430.1635)\n",
              " -->\n",
              "<!-- Title: polars_query Pages: 1 -->\n",
              "<svg width=\"294pt\" height=\"210pt\"\n",
              " viewBox=\"0.00 0.00 294.00 209.50\" xmlns=\"http://www.w3.org/2000/svg\" xmlns:xlink=\"http://www.w3.org/1999/xlink\">\n",
              "<g id=\"graph0\" class=\"graph\" transform=\"scale(1 1) rotate(0) translate(4 205.5)\">\n",
              "<title>polars_query</title>\n",
              "<polygon fill=\"white\" stroke=\"none\" points=\"-4,4 -4,-205.5 290,-205.5 290,4 -4,4\"/>\n",
              "<!-- FILTER BY (col(&quot;artist&quot;)) == (Utf8(... [(0, 0)] -->\n",
              "<g id=\"node1\" class=\"node\">\n",
              "<title>FILTER BY (col(&quot;artist&quot;)) == (Utf8(... [(0, 0)]</title>\n",
              "<polygon fill=\"none\" stroke=\"black\" points=\"257.88,-201.5 28.12,-201.5 28.12,-165.5 257.88,-165.5 257.88,-201.5\"/>\n",
              "<text text-anchor=\"middle\" x=\"143\" y=\"-178.45\" font-family=\"Times,serif\" font-size=\"14.00\">FILTER BY (col(&quot;artist&quot;)) == (Utf8(...</text>\n",
              "</g>\n",
              "<!-- π 2/9 [(0, 1)] -->\n",
              "<g id=\"node2\" class=\"node\">\n",
              "<title>π 2/9 [(0, 1)]</title>\n",
              "<polygon fill=\"none\" stroke=\"black\" points=\"170,-129.5 116,-129.5 116,-93.5 170,-93.5 170,-129.5\"/>\n",
              "<text text-anchor=\"middle\" x=\"143\" y=\"-106.45\" font-family=\"Times,serif\" font-size=\"14.00\">π 2/9</text>\n",
              "</g>\n",
              "<!-- FILTER BY (col(&quot;artist&quot;)) == (Utf8(... [(0, 0)]&#45;&#45;π 2/9 [(0, 1)] -->\n",
              "<g id=\"edge1\" class=\"edge\">\n",
              "<title>FILTER BY (col(&quot;artist&quot;)) == (Utf8(... [(0, 0)]&#45;&#45;π 2/9 [(0, 1)]</title>\n",
              "<path fill=\"none\" stroke=\"black\" d=\"M143,-165.2C143,-154.35 143,-140.42 143,-129.6\"/>\n",
              "</g>\n",
              "<!-- Parquet SCAN spotify&#45;charts&#45;2017&#45;2021.parquet;\n",
              "π */9;\n",
              "σ &#45; [(0, 2)] -->\n",
              "<g id=\"node3\" class=\"node\">\n",
              "<title>Parquet SCAN spotify&#45;charts&#45;2017&#45;2021.parquet;\n",
              "π */9;\n",
              "σ &#45; [(0, 2)]</title>\n",
              "<polygon fill=\"none\" stroke=\"black\" points=\"286,-57.5 0,-57.5 0,0 286,0 286,-57.5\"/>\n",
              "<text text-anchor=\"middle\" x=\"143\" y=\"-40.2\" font-family=\"Times,serif\" font-size=\"14.00\">Parquet SCAN spotify&#45;charts&#45;2017&#45;2021.parquet;</text>\n",
              "<text text-anchor=\"middle\" x=\"143\" y=\"-23.7\" font-family=\"Times,serif\" font-size=\"14.00\">π */9;</text>\n",
              "<text text-anchor=\"middle\" x=\"143\" y=\"-7.2\" font-family=\"Times,serif\" font-size=\"14.00\">σ &#45;</text>\n",
              "</g>\n",
              "<!-- π 2/9 [(0, 1)]&#45;&#45;Parquet SCAN spotify&#45;charts&#45;2017&#45;2021.parquet;\n",
              "π */9;\n",
              "σ &#45; [(0, 2)] -->\n",
              "<g id=\"edge2\" class=\"edge\">\n",
              "<title>π 2/9 [(0, 1)]&#45;&#45;Parquet SCAN spotify&#45;charts&#45;2017&#45;2021.parquet;\n",
              "π */9;\n",
              "σ &#45; [(0, 2)]</title>\n",
              "<path fill=\"none\" stroke=\"black\" d=\"M143,-93.38C143,-83.1 143,-69.77 143,-57.97\"/>\n",
              "</g>\n",
              "</g>\n",
              "</svg>\n"
            ],
            "text/plain": [
              "<LazyFrame [2 cols, {\"artist\": Utf8, \"title\": Utf8}] at 0x1272A9C00>"
            ]
          },
          "execution_count": 116,
          "metadata": {},
          "output_type": "execute_result"
        }
      ],
      "source": [
        "# für einen lazy Dataframe wird der unoptimierte Abfragebaum ausgegeben\n",
        "lazy_df.select(\"artist\", \"title\").filter(pl.col(\"artist\").eq(\"Dua Lipa\"))"
      ]
    },
    {
      "cell_type": "markdown",
      "metadata": {},
      "source": [
        "Der Plan wird von unten nach oben gelesen. Die griechischen Buchstaben sind aus der relationalen Algebra. Der Buchstabe π steht für die Operation Projektion (`select`), σ für die Operation Selektion (`filter`).\n",
        "\n",
        "- Table π */9; σ -; bedeutet, dass alle neun Spalten gelesen werden und keine Selektion vorgenommen wird\n",
        "- π 2/9 bedeutet, dass auf zwei von neun Spalten projiziert wird \n",
        "- FILTER BY ist die Selektion aus unserer Abfrage"
      ]
    },
    {
      "cell_type": "code",
      "execution_count": 117,
      "metadata": {},
      "outputs": [
        {
          "data": {
            "image/svg+xml": [
              "<svg xmlns=\"http://www.w3.org/2000/svg\" xmlns:xlink=\"http://www.w3.org/1999/xlink\" width=\"294pt\" height=\"138pt\" viewBox=\"0.00 0.00 294.00 137.50\">\n",
              "<g id=\"graph0\" class=\"graph\" transform=\"scale(1 1) rotate(0) translate(4 133.5)\">\n",
              "<title>polars_query</title>\n",
              "<polygon fill=\"white\" stroke=\"none\" points=\"-4,4 -4,-133.5 290,-133.5 290,4 -4,4\"/>\n",
              "<!-- FAST_PROJECT: [artist, title] [(0, 0)] -->\n",
              "<g id=\"node1\" class=\"node\">\n",
              "<title>FAST_PROJECT: [artist, title] [(0, 0)]</title>\n",
              "<polygon fill=\"none\" stroke=\"black\" points=\"235.38,-129.5 50.62,-129.5 50.62,-93.5 235.38,-93.5 235.38,-129.5\"/>\n",
              "<text text-anchor=\"middle\" x=\"143\" y=\"-106.45\" font-family=\"Times,serif\" font-size=\"14.00\">FAST_PROJECT: [artist, title]</text>\n",
              "</g>\n",
              "<!-- Parquet SCAN spotify&#45;charts&#45;2017&#45;2021.parquet;\n",
              "π 2/9;\n",
              "σ (col(&quot;artist&quot;)) == (Utf8(... [(0, 1)] -->\n",
              "<g id=\"node2\" class=\"node\">\n",
              "<title>Parquet SCAN spotify-charts-2017-2021.parquet;\n",
              "π 2/9;\n",
              "σ (col(&quot;artist&quot;)) == (Utf8(... [(0, 1)]</title>\n",
              "<polygon fill=\"none\" stroke=\"black\" points=\"286,-57.5 0,-57.5 0,0 286,0 286,-57.5\"/>\n",
              "<text text-anchor=\"middle\" x=\"143\" y=\"-40.2\" font-family=\"Times,serif\" font-size=\"14.00\">Parquet SCAN spotify-charts-2017-2021.parquet;</text>\n",
              "<text text-anchor=\"middle\" x=\"143\" y=\"-23.7\" font-family=\"Times,serif\" font-size=\"14.00\">π 2/9;</text>\n",
              "<text text-anchor=\"middle\" x=\"143\" y=\"-7.2\" font-family=\"Times,serif\" font-size=\"14.00\">σ (col(&quot;artist&quot;)) == (Utf8(...</text>\n",
              "</g>\n",
              "<!-- FAST_PROJECT: [artist, title] [(0, 0)]&#45;&#45;Parquet SCAN spotify&#45;charts&#45;2017&#45;2021.parquet;\n",
              "π 2/9;\n",
              "σ (col(&quot;artist&quot;)) == (Utf8(... [(0, 1)] -->\n",
              "<g id=\"edge1\" class=\"edge\">\n",
              "<title>FAST_PROJECT: [artist, title] [(0, 0)]--Parquet SCAN spotify-charts-2017-2021.parquet;\n",
              "π 2/9;\n",
              "σ (col(&quot;artist&quot;)) == (Utf8(... [(0, 1)]</title>\n",
              "<path fill=\"none\" stroke=\"black\" d=\"M143,-93.38C143,-83.1 143,-69.77 143,-57.97\"/>\n",
              "</g>\n",
              "</g>\n",
              "</svg>"
            ],
            "text/plain": [
              "<IPython.core.display.SVG object>"
            ]
          },
          "metadata": {},
          "output_type": "display_data"
        }
      ],
      "source": [
        "# mit der Methode show_graph() können wir die optimierte Abfrage ausgeben\n",
        "lazy_df.select(\"artist\", \"title\").filter(pl.col(\"artist\").eq(\"Dua Lipa\")).show_graph()"
      ]
    },
    {
      "cell_type": "markdown",
      "metadata": {},
      "source": [
        "Sowohl die Projektion als auch die Selektion passieren im optimierten Abfrageplan früher."
      ]
    },
    {
      "cell_type": "markdown",
      "metadata": {},
      "source": [
        "Die Abfrage wird letztendlich ausgeführt, wenn wir die Methode `collect` aufrufen. Das Ergebnis ist dann wieder ein normaler Dataframe."
      ]
    },
    {
      "cell_type": "code",
      "execution_count": 118,
      "metadata": {},
      "outputs": [
        {
          "data": {
            "text/html": [
              "<div><style>\n",
              ".dataframe > thead > tr > th,\n",
              ".dataframe > tbody > tr > td {\n",
              "  text-align: right;\n",
              "  white-space: pre-wrap;\n",
              "}\n",
              "</style>\n",
              "<small>shape: (2, 2)</small><table border=\"1\" class=\"dataframe\"><thead><tr><th>artist</th><th>title</th></tr><tr><td>str</td><td>str</td></tr></thead><tbody><tr><td>&quot;Dua Lipa&quot;</td><td>&quot;We&#x27;re Good&quot;</td></tr><tr><td>&quot;Dua Lipa&quot;</td><td>&quot;New Rules&quot;</td></tr></tbody></table></div>"
            ],
            "text/plain": [
              "shape: (2, 2)\n",
              "┌──────────┬────────────┐\n",
              "│ artist   ┆ title      │\n",
              "│ ---      ┆ ---        │\n",
              "│ str      ┆ str        │\n",
              "╞══════════╪════════════╡\n",
              "│ Dua Lipa ┆ We're Good │\n",
              "│ Dua Lipa ┆ New Rules  │\n",
              "└──────────┴────────────┘"
            ]
          },
          "execution_count": 118,
          "metadata": {},
          "output_type": "execute_result"
        }
      ],
      "source": [
        "result = lazy_df.select(\"artist\", \"title\").filter(pl.col(\"artist\").eq(\"Dua Lipa\")).collect()\n",
        "result.sample(2)"
      ]
    },
    {
      "cell_type": "code",
      "execution_count": 119,
      "metadata": {},
      "outputs": [
        {
          "data": {
            "text/plain": [
              "polars.dataframe.frame.DataFrame"
            ]
          },
          "execution_count": 119,
          "metadata": {},
          "output_type": "execute_result"
        }
      ],
      "source": [
        "type(result)"
      ]
    },
    {
      "cell_type": "markdown",
      "metadata": {},
      "source": [
        "Durch dieses Vorgehen, kann Polars Optimierungen vor der Ausführung der Abfrage vornehmen.\n",
        "\n",
        "Eine Auswahl an Optimierungen findet ihr hier: https://pola-rs.github.io/polars/user-guide/lazy/optimizations/"
      ]
    },
    {
      "cell_type": "markdown",
      "metadata": {},
      "source": [
        "### Lazy Load + Query"
      ]
    },
    {
      "cell_type": "markdown",
      "metadata": {},
      "source": [
        "Wenn es sich nicht lohnt einen Datensatz vollständig in den Speicher zu laden, können wir auch das Laden der Daten verzögern, in dem wir die IO-Methoden mit dem Namen `scan_*` statt `write_*` nutzen.\n",
        "\n",
        "Das funktioniert z.B. für Dateien in den Formaten CSV (`scan_csv`) und Parquet (`scan_parquet`), aber nicht für komprimierte CSVs."
      ]
    },
    {
      "cell_type": "markdown",
      "metadata": {},
      "source": [
        "Bisher haben wir immer mit einem kleinen Datensatz gearbeitet, der nur die globalen Top-200 Charts beinhaltet (362k Zeilen, 64 MB)\n",
        "\n",
        "Wir können jetzt auf den richtigen Datensatz wechseln, der die Top-200 und die Viral-50 Charts für 70 verschiedene Regionen enthält (26m Zeilen, 4 GB)."
      ]
    },
    {
      "cell_type": "code",
      "execution_count": 120,
      "metadata": {},
      "outputs": [],
      "source": [
        "df = pl.scan_parquet(\"spotify-charts-2017-2021.parquet\")"
      ]
    },
    {
      "cell_type": "markdown",
      "metadata": {},
      "source": [
        "Durch die optimierten Abfragen, werden nur die Daten aus der Datei geladen, die auch wirklich gebraucht werden."
      ]
    },
    {
      "cell_type": "code",
      "execution_count": 123,
      "metadata": {},
      "outputs": [
        {
          "data": {
            "image/svg+xml": [
              "<svg xmlns=\"http://www.w3.org/2000/svg\" xmlns:xlink=\"http://www.w3.org/1999/xlink\" width=\"294pt\" height=\"138pt\" viewBox=\"0.00 0.00 294.00 137.50\">\n",
              "<g id=\"graph0\" class=\"graph\" transform=\"scale(1 1) rotate(0) translate(4 133.5)\">\n",
              "<title>polars_query</title>\n",
              "<polygon fill=\"white\" stroke=\"none\" points=\"-4,4 -4,-133.5 290,-133.5 290,4 -4,4\"/>\n",
              "<!-- FAST_PROJECT: [artist, title] [(0, 0)] -->\n",
              "<g id=\"node1\" class=\"node\">\n",
              "<title>FAST_PROJECT: [artist, title] [(0, 0)]</title>\n",
              "<polygon fill=\"none\" stroke=\"black\" points=\"235.38,-129.5 50.62,-129.5 50.62,-93.5 235.38,-93.5 235.38,-129.5\"/>\n",
              "<text text-anchor=\"middle\" x=\"143\" y=\"-106.45\" font-family=\"Times,serif\" font-size=\"14.00\">FAST_PROJECT: [artist, title]</text>\n",
              "</g>\n",
              "<!-- Parquet SCAN spotify&#45;charts&#45;2017&#45;2021.parquet;\n",
              "π 2/9;\n",
              "σ (col(&quot;artist&quot;)) == (Utf8(... [(0, 1)] -->\n",
              "<g id=\"node2\" class=\"node\">\n",
              "<title>Parquet SCAN spotify-charts-2017-2021.parquet;\n",
              "π 2/9;\n",
              "σ (col(&quot;artist&quot;)) == (Utf8(... [(0, 1)]</title>\n",
              "<polygon fill=\"none\" stroke=\"black\" points=\"286,-57.5 0,-57.5 0,0 286,0 286,-57.5\"/>\n",
              "<text text-anchor=\"middle\" x=\"143\" y=\"-40.2\" font-family=\"Times,serif\" font-size=\"14.00\">Parquet SCAN spotify-charts-2017-2021.parquet;</text>\n",
              "<text text-anchor=\"middle\" x=\"143\" y=\"-23.7\" font-family=\"Times,serif\" font-size=\"14.00\">π 2/9;</text>\n",
              "<text text-anchor=\"middle\" x=\"143\" y=\"-7.2\" font-family=\"Times,serif\" font-size=\"14.00\">σ (col(&quot;artist&quot;)) == (Utf8(...</text>\n",
              "</g>\n",
              "<!-- FAST_PROJECT: [artist, title] [(0, 0)]&#45;&#45;Parquet SCAN spotify&#45;charts&#45;2017&#45;2021.parquet;\n",
              "π 2/9;\n",
              "σ (col(&quot;artist&quot;)) == (Utf8(... [(0, 1)] -->\n",
              "<g id=\"edge1\" class=\"edge\">\n",
              "<title>FAST_PROJECT: [artist, title] [(0, 0)]--Parquet SCAN spotify-charts-2017-2021.parquet;\n",
              "π 2/9;\n",
              "σ (col(&quot;artist&quot;)) == (Utf8(... [(0, 1)]</title>\n",
              "<path fill=\"none\" stroke=\"black\" d=\"M143,-93.38C143,-83.1 143,-69.77 143,-57.97\"/>\n",
              "</g>\n",
              "</g>\n",
              "</svg>"
            ],
            "text/plain": [
              "<IPython.core.display.SVG object>"
            ]
          },
          "metadata": {},
          "output_type": "display_data"
        }
      ],
      "source": [
        "(df\n",
        "    .select(\"artist\", \"title\")\n",
        "    .filter(pl.col(\"artist\").eq(\"Dua Lipa\"))\n",
        ").show_graph()"
      ]
    },
    {
      "cell_type": "markdown",
      "metadata": {},
      "source": [
        "Je nach Abfrage können bestimmte Optimierungen nicht durchgeführt werden, weil sie das  Ergebnis verändern würden..."
      ]
    },
    {
      "cell_type": "code",
      "execution_count": 124,
      "metadata": {},
      "outputs": [
        {
          "data": {
            "image/svg+xml": [
              "<svg xmlns=\"http://www.w3.org/2000/svg\" xmlns:xlink=\"http://www.w3.org/1999/xlink\" width=\"294pt\" height=\"210pt\" viewBox=\"0.00 0.00 294.00 209.50\">\n",
              "<g id=\"graph0\" class=\"graph\" transform=\"scale(1 1) rotate(0) translate(4 205.5)\">\n",
              "<title>polars_query</title>\n",
              "<polygon fill=\"white\" stroke=\"none\" points=\"-4,4 -4,-205.5 290,-205.5 290,4 -4,4\"/>\n",
              "<!-- FAST_PROJECT: [artist, title] [(0, 0)] -->\n",
              "<g id=\"node1\" class=\"node\">\n",
              "<title>FAST_PROJECT: [artist, title] [(0, 0)]</title>\n",
              "<polygon fill=\"none\" stroke=\"black\" points=\"235.38,-201.5 50.62,-201.5 50.62,-165.5 235.38,-165.5 235.38,-201.5\"/>\n",
              "<text text-anchor=\"middle\" x=\"143\" y=\"-178.45\" font-family=\"Times,serif\" font-size=\"14.00\">FAST_PROJECT: [artist, title]</text>\n",
              "</g>\n",
              "<!-- FILTER BY (col(&quot;artist&quot;)) == (Utf8(... [(0, 1)] -->\n",
              "<g id=\"node2\" class=\"node\">\n",
              "<title>FILTER BY (col(&quot;artist&quot;)) == (Utf8(... [(0, 1)]</title>\n",
              "<polygon fill=\"none\" stroke=\"black\" points=\"257.88,-129.5 28.12,-129.5 28.12,-93.5 257.88,-93.5 257.88,-129.5\"/>\n",
              "<text text-anchor=\"middle\" x=\"143\" y=\"-106.45\" font-family=\"Times,serif\" font-size=\"14.00\">FILTER BY (col(&quot;artist&quot;)) == (Utf8(...</text>\n",
              "</g>\n",
              "<!-- FAST_PROJECT: [artist, title] [(0, 0)]&#45;&#45;FILTER BY (col(&quot;artist&quot;)) == (Utf8(... [(0, 1)] -->\n",
              "<g id=\"edge1\" class=\"edge\">\n",
              "<title>FAST_PROJECT: [artist, title] [(0, 0)]--FILTER BY (col(&quot;artist&quot;)) == (Utf8(... [(0, 1)]</title>\n",
              "<path fill=\"none\" stroke=\"black\" d=\"M143,-165.2C143,-154.35 143,-140.42 143,-129.6\"/>\n",
              "</g>\n",
              "<!-- Parquet SCAN spotify&#45;charts&#45;2017&#45;2021.parquet;\n",
              "π 2/9;\n",
              "σ &#45; [(0, 2)] -->\n",
              "<g id=\"node3\" class=\"node\">\n",
              "<title>Parquet SCAN spotify-charts-2017-2021.parquet;\n",
              "π 2/9;\n",
              "σ - [(0, 2)]</title>\n",
              "<polygon fill=\"none\" stroke=\"black\" points=\"286,-57.5 0,-57.5 0,0 286,0 286,-57.5\"/>\n",
              "<text text-anchor=\"middle\" x=\"143\" y=\"-40.2\" font-family=\"Times,serif\" font-size=\"14.00\">Parquet SCAN spotify-charts-2017-2021.parquet;</text>\n",
              "<text text-anchor=\"middle\" x=\"143\" y=\"-23.7\" font-family=\"Times,serif\" font-size=\"14.00\">π 2/9;</text>\n",
              "<text text-anchor=\"middle\" x=\"143\" y=\"-7.2\" font-family=\"Times,serif\" font-size=\"14.00\">σ -</text>\n",
              "</g>\n",
              "<!-- FILTER BY (col(&quot;artist&quot;)) == (Utf8(... [(0, 1)]&#45;&#45;Parquet SCAN spotify&#45;charts&#45;2017&#45;2021.parquet;\n",
              "π 2/9;\n",
              "σ &#45; [(0, 2)] -->\n",
              "<g id=\"edge2\" class=\"edge\">\n",
              "<title>FILTER BY (col(&quot;artist&quot;)) == (Utf8(... [(0, 1)]--Parquet SCAN spotify-charts-2017-2021.parquet;\n",
              "π 2/9;\n",
              "σ - [(0, 2)]</title>\n",
              "<path fill=\"none\" stroke=\"black\" d=\"M143,-93.38C143,-83.1 143,-69.77 143,-57.97\"/>\n",
              "</g>\n",
              "</g>\n",
              "</svg>"
            ],
            "text/plain": [
              "<IPython.core.display.SVG object>"
            ]
          },
          "metadata": {},
          "output_type": "display_data"
        }
      ],
      "source": [
        "(df\n",
        "    .head(2)\n",
        "    .select(\"artist\", \"title\")\n",
        "    .filter(pl.col(\"artist\").eq(\"Dua Lipa\"))\n",
        ").show_graph()"
      ]
    },
    {
      "cell_type": "markdown",
      "metadata": {},
      "source": [
        "Manchmal lässt der Abfrage-Optimierer auch Potenzial liegen..."
      ]
    },
    {
      "cell_type": "code",
      "execution_count": 127,
      "metadata": {},
      "outputs": [
        {
          "data": {
            "image/svg+xml": [
              "<svg xmlns=\"http://www.w3.org/2000/svg\" xmlns:xlink=\"http://www.w3.org/1999/xlink\" width=\"294pt\" height=\"231pt\" viewBox=\"0.00 0.00 294.00 231.00\">\n",
              "<g id=\"graph0\" class=\"graph\" transform=\"scale(1 1) rotate(0) translate(4 227)\">\n",
              "<title>polars_query</title>\n",
              "<polygon fill=\"white\" stroke=\"none\" points=\"-4,4 -4,-227 290,-227 290,4 -4,4\"/>\n",
              "<!-- FILTER BY (col(&quot;artist&quot;)) == (Utf8(... [(0, 0)] -->\n",
              "<g id=\"node1\" class=\"node\">\n",
              "<title>FILTER BY (col(&quot;artist&quot;)) == (Utf8(... [(0, 0)]</title>\n",
              "<polygon fill=\"none\" stroke=\"black\" points=\"257.88,-223 28.12,-223 28.12,-187 257.88,-187 257.88,-223\"/>\n",
              "<text text-anchor=\"middle\" x=\"143\" y=\"-199.95\" font-family=\"Times,serif\" font-size=\"14.00\">FILTER BY (col(&quot;artist&quot;)) == (Utf8(...</text>\n",
              "</g>\n",
              "<!-- AGG [col(&quot;title&quot;).n_unique()]\n",
              "BY\n",
              "[col(&quot;artist&quot;)] [(0, 1)] [(0, 1)] -->\n",
              "<g id=\"node2\" class=\"node\">\n",
              "<title>AGG [col(&quot;title&quot;).n_unique()]\n",
              "BY\n",
              "[col(&quot;artist&quot;)] [(0, 1)] [(0, 1)]</title>\n",
              "<polygon fill=\"none\" stroke=\"black\" points=\"232.75,-151 53.25,-151 53.25,-93.5 232.75,-93.5 232.75,-151\"/>\n",
              "<text text-anchor=\"middle\" x=\"143\" y=\"-133.7\" font-family=\"Times,serif\" font-size=\"14.00\">AGG [col(&quot;title&quot;).n_unique()]</text>\n",
              "<text text-anchor=\"middle\" x=\"143\" y=\"-117.2\" font-family=\"Times,serif\" font-size=\"14.00\">BY</text>\n",
              "<text text-anchor=\"middle\" x=\"143\" y=\"-100.7\" font-family=\"Times,serif\" font-size=\"14.00\">[col(&quot;artist&quot;)] [(0, 1)]</text>\n",
              "</g>\n",
              "<!-- FILTER BY (col(&quot;artist&quot;)) == (Utf8(... [(0, 0)]&#45;&#45;AGG [col(&quot;title&quot;).n_unique()]\n",
              "BY\n",
              "[col(&quot;artist&quot;)] [(0, 1)] [(0, 1)] -->\n",
              "<g id=\"edge1\" class=\"edge\">\n",
              "<title>FILTER BY (col(&quot;artist&quot;)) == (Utf8(... [(0, 0)]--AGG [col(&quot;title&quot;).n_unique()]\n",
              "BY\n",
              "[col(&quot;artist&quot;)] [(0, 1)] [(0, 1)]</title>\n",
              "<path fill=\"none\" stroke=\"black\" d=\"M143,-186.88C143,-176.6 143,-163.27 143,-151.47\"/>\n",
              "</g>\n",
              "<!-- Parquet SCAN spotify&#45;charts&#45;2017&#45;2021.parquet;\n",
              "π 2/9;\n",
              "σ &#45; [(0, 2)] -->\n",
              "<g id=\"node3\" class=\"node\">\n",
              "<title>Parquet SCAN spotify-charts-2017-2021.parquet;\n",
              "π 2/9;\n",
              "σ - [(0, 2)]</title>\n",
              "<polygon fill=\"none\" stroke=\"black\" points=\"286,-57.5 0,-57.5 0,0 286,0 286,-57.5\"/>\n",
              "<text text-anchor=\"middle\" x=\"143\" y=\"-40.2\" font-family=\"Times,serif\" font-size=\"14.00\">Parquet SCAN spotify-charts-2017-2021.parquet;</text>\n",
              "<text text-anchor=\"middle\" x=\"143\" y=\"-23.7\" font-family=\"Times,serif\" font-size=\"14.00\">π 2/9;</text>\n",
              "<text text-anchor=\"middle\" x=\"143\" y=\"-7.2\" font-family=\"Times,serif\" font-size=\"14.00\">σ -</text>\n",
              "</g>\n",
              "<!-- AGG [col(&quot;title&quot;).n_unique()]\n",
              "BY\n",
              "[col(&quot;artist&quot;)] [(0, 1)] [(0, 1)]&#45;&#45;Parquet SCAN spotify&#45;charts&#45;2017&#45;2021.parquet;\n",
              "π 2/9;\n",
              "σ &#45; [(0, 2)] -->\n",
              "<g id=\"edge2\" class=\"edge\">\n",
              "<title>AGG [col(&quot;title&quot;).n_unique()]\n",
              "BY\n",
              "[col(&quot;artist&quot;)] [(0, 1)] [(0, 1)]--Parquet SCAN spotify-charts-2017-2021.parquet;\n",
              "π 2/9;\n",
              "σ - [(0, 2)]</title>\n",
              "<path fill=\"none\" stroke=\"black\" d=\"M143,-93.3C143,-82.05 143,-69.11 143,-57.84\"/>\n",
              "</g>\n",
              "</g>\n",
              "</svg>"
            ],
            "text/plain": [
              "<IPython.core.display.SVG object>"
            ]
          },
          "metadata": {},
          "output_type": "display_data"
        }
      ],
      "source": [
        "naive_query = (df\n",
        "    .group_by(\"artist\")\n",
        "    .agg(pl.col(\"title\").n_unique())\n",
        "    .filter(pl.col(\"artist\").eq(\"Dua Lipa\"))\n",
        ")\n",
        "naive_query.show_graph()"
      ]
    },
    {
      "cell_type": "code",
      "execution_count": 128,
      "metadata": {},
      "outputs": [
        {
          "name": "stdout",
          "output_type": "stream",
          "text": [
            "747 ms ± 25.8 ms per loop (mean ± std. dev. of 7 runs, 1 loop each)\n"
          ]
        }
      ],
      "source": [
        "%%timeit\n",
        "naive_query.collect()"
      ]
    },
    {
      "cell_type": "markdown",
      "metadata": {},
      "source": [
        "Wir optimieren händisch, dass zuerst gefiltert werden sollte, was die Abfrage deutlich beschleunigt."
      ]
    },
    {
      "cell_type": "code",
      "execution_count": 129,
      "metadata": {},
      "outputs": [
        {
          "data": {
            "image/svg+xml": [
              "<svg xmlns=\"http://www.w3.org/2000/svg\" xmlns:xlink=\"http://www.w3.org/1999/xlink\" width=\"294pt\" height=\"159pt\" viewBox=\"0.00 0.00 294.00 159.00\">\n",
              "<g id=\"graph0\" class=\"graph\" transform=\"scale(1 1) rotate(0) translate(4 155)\">\n",
              "<title>polars_query</title>\n",
              "<polygon fill=\"white\" stroke=\"none\" points=\"-4,4 -4,-155 290,-155 290,4 -4,4\"/>\n",
              "<!-- AGG [col(&quot;title&quot;).n_unique()]\n",
              "BY\n",
              "[col(&quot;artist&quot;)] [(0, 0)] [(0, 0)] -->\n",
              "<g id=\"node1\" class=\"node\">\n",
              "<title>AGG [col(&quot;title&quot;).n_unique()]\n",
              "BY\n",
              "[col(&quot;artist&quot;)] [(0, 0)] [(0, 0)]</title>\n",
              "<polygon fill=\"none\" stroke=\"black\" points=\"232.75,-151 53.25,-151 53.25,-93.5 232.75,-93.5 232.75,-151\"/>\n",
              "<text text-anchor=\"middle\" x=\"143\" y=\"-133.7\" font-family=\"Times,serif\" font-size=\"14.00\">AGG [col(&quot;title&quot;).n_unique()]</text>\n",
              "<text text-anchor=\"middle\" x=\"143\" y=\"-117.2\" font-family=\"Times,serif\" font-size=\"14.00\">BY</text>\n",
              "<text text-anchor=\"middle\" x=\"143\" y=\"-100.7\" font-family=\"Times,serif\" font-size=\"14.00\">[col(&quot;artist&quot;)] [(0, 0)]</text>\n",
              "</g>\n",
              "<!-- Parquet SCAN spotify&#45;charts&#45;2017&#45;2021.parquet;\n",
              "π 2/9;\n",
              "σ (col(&quot;artist&quot;)) == (Utf8(... [(0, 1)] -->\n",
              "<g id=\"node2\" class=\"node\">\n",
              "<title>Parquet SCAN spotify-charts-2017-2021.parquet;\n",
              "π 2/9;\n",
              "σ (col(&quot;artist&quot;)) == (Utf8(... [(0, 1)]</title>\n",
              "<polygon fill=\"none\" stroke=\"black\" points=\"286,-57.5 0,-57.5 0,0 286,0 286,-57.5\"/>\n",
              "<text text-anchor=\"middle\" x=\"143\" y=\"-40.2\" font-family=\"Times,serif\" font-size=\"14.00\">Parquet SCAN spotify-charts-2017-2021.parquet;</text>\n",
              "<text text-anchor=\"middle\" x=\"143\" y=\"-23.7\" font-family=\"Times,serif\" font-size=\"14.00\">π 2/9;</text>\n",
              "<text text-anchor=\"middle\" x=\"143\" y=\"-7.2\" font-family=\"Times,serif\" font-size=\"14.00\">σ (col(&quot;artist&quot;)) == (Utf8(...</text>\n",
              "</g>\n",
              "<!-- AGG [col(&quot;title&quot;).n_unique()]\n",
              "BY\n",
              "[col(&quot;artist&quot;)] [(0, 0)] [(0, 0)]&#45;&#45;Parquet SCAN spotify&#45;charts&#45;2017&#45;2021.parquet;\n",
              "π 2/9;\n",
              "σ (col(&quot;artist&quot;)) == (Utf8(... [(0, 1)] -->\n",
              "<g id=\"edge1\" class=\"edge\">\n",
              "<title>AGG [col(&quot;title&quot;).n_unique()]\n",
              "BY\n",
              "[col(&quot;artist&quot;)] [(0, 0)] [(0, 0)]--Parquet SCAN spotify-charts-2017-2021.parquet;\n",
              "π 2/9;\n",
              "σ (col(&quot;artist&quot;)) == (Utf8(... [(0, 1)]</title>\n",
              "<path fill=\"none\" stroke=\"black\" d=\"M143,-93.3C143,-82.05 143,-69.11 143,-57.84\"/>\n",
              "</g>\n",
              "</g>\n",
              "</svg>"
            ],
            "text/plain": [
              "<IPython.core.display.SVG object>"
            ]
          },
          "metadata": {},
          "output_type": "display_data"
        }
      ],
      "source": [
        "optimized_query = (df\n",
        "    .filter(pl.col(\"artist\").eq(\"Dua Lipa\"))\n",
        "    .group_by(\"artist\")\n",
        "    .agg(pl.col(\"title\").n_unique())\n",
        ")\n",
        "optimized_query.show_graph()"
      ]
    },
    {
      "cell_type": "code",
      "execution_count": 130,
      "metadata": {},
      "outputs": [
        {
          "name": "stdout",
          "output_type": "stream",
          "text": [
            "229 ms ± 4.82 ms per loop (mean ± std. dev. of 7 runs, 1 loop each)\n"
          ]
        }
      ],
      "source": [
        "%%timeit\n",
        "optimized_query.collect()"
      ]
    },
    {
      "cell_type": "markdown",
      "metadata": {},
      "source": []
    }
  ],
  "metadata": {
    "colab": {
      "provenance": []
    },
    "kernelspec": {
      "display_name": "Python 3",
      "name": "python3"
    },
    "language_info": {
      "codemirror_mode": {
        "name": "ipython",
        "version": 3
      },
      "file_extension": ".py",
      "mimetype": "text/x-python",
      "name": "python",
      "nbconvert_exporter": "python",
      "pygments_lexer": "ipython3",
      "version": "3.10.11"
    }
  },
  "nbformat": 4,
  "nbformat_minor": 0
}
