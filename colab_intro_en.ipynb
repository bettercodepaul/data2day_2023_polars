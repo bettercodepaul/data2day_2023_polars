{
  "cells": [
    {
      "cell_type": "markdown",
      "metadata": {
        "id": "W_g8emxrO59C"
      },
      "source": [
        "# How to Colab\n",
        "\n",
        "This notebook briefly introduces the most important basics of using Google Colab. Google Colab is a notebook environment in which Python code and text can be written and developed in an interactive document.\n",
        "\n",
        "Colab is based on IPython/Jupyter notebooks, and is used very similarly to them.\n",
        "\n",
        "Colab notebooks can be stored and managed in Google Drive."
      ]
    },
    {
      "cell_type": "markdown",
      "metadata": {
        "id": "cTQ5DGMWa9bi"
      },
      "source": [
        "## Cell basics\n",
        "\n",
        "The basic building blocks are the two cell types:\n",
        "\n",
        "* Text cells: This text is in one of them. With a double click or `enter` you can edit the text here, at the top of the cell various formatting tools will appear. Headings start with the # character, as seen above. The edit mode can be exited with `Shift + Enter`.\n",
        "\n",
        "* Code cells: Executable Python code can be written in these. They can be executed with a click on the arrow in brackets on the left side, or with `Shift + Enter`. The output of the last expression is displayed below the cell after execution."
      ]
    },
    {
      "cell_type": "code",
      "execution_count": null,
      "metadata": {
        "colab": {
          "base_uri": "https://localhost:8080/"
        },
        "id": "gRHsbZbiOzTd",
        "outputId": "89351084-5c26-45e5-afda-2c78f3bfa412"
      },
      "outputs": [],
      "source": [
        "1+5"
      ]
    },
    {
      "cell_type": "markdown",
      "metadata": {
        "id": "nNOBdG-5Rw48"
      },
      "source": [
        "New cells can easily be added using the two buttons **+ Code** and **+ Text** at the top of this window, and will appear below the last selected cells. Alternatively, a code cell can be added with shortcuts `Ctrl + M B` (hold down Ctrl, then M and B). Here is a selection of useful shortcuts:\n",
        "\n",
        "* `Ctrl + M B` Insert code cell below the current cell (B=Below).\n",
        "* `Ctrl + M A` Insert code cell above the current cell (A=Above)\n",
        "* `Ctrl + M M` convert code cell to text cell (M=Markup)\n",
        "* `Ctrl + M D` Delete cell (D=Delete)\n",
        "* `Ctrl + M Z` undo last change\n",
        "* `Enter` edit cell\n",
        "* `Esc` Exit edit mode\n",
        "* `Shift + Enter` execute code cell/exit text cell and go to next cell\n",
        "\n",
        "Additional shortcuts and configuration options can be viewed in Colab under **Tools** -> **Key combinations** shortcuts.\n",
        "\n",
        "Cells can be moved up or down using the small toolbar at the top right of the cell with the arrows.\n",
        "\n",
        "If code cells are executed once and the notebook is saved, the displayed output is retained and can be viewed later:"
      ]
    },
    {
      "cell_type": "code",
      "execution_count": null,
      "metadata": {
        "colab": {
          "base_uri": "https://localhost:8080/",
          "height": 282
        },
        "id": "S_wO0yjux_cR",
        "outputId": "5ce2c816-0298-4b35-e02d-9361d4c758e1"
      },
      "outputs": [],
      "source": [
        "import matplotlib.pyplot as plt\n",
        "plt.plot([1,5,10,20])"
      ]
    },
    {
      "cell_type": "markdown",
      "metadata": {
        "id": "qncyLFn0UUFQ"
      },
      "source": [
        "## Colab Runtime\n",
        "\n",
        "An important difference to normal IPython notebooks is the runtime provided by Colab from the cloud. No local installation or configuration is required to use it, and no costs are incurred either.\n",
        "\n",
        "This normally takes a few seconds. The **Runtime** menu at the top of the window offers some options for execution, especially **Run before** (executes all cells before the current one) and **Restart runtime**/**Disconnect and delete runtime** (important if bad things (tm) happened)."
      ]
    },
    {
      "cell_type": "markdown",
      "metadata": {
        "id": "fzStnraoWhrO"
      },
      "source": [
        "## Colab File System\n",
        "\n",
        "Each Colab environment has its own (temporary) Unix file system. This can be viewed via the folder icon in the bar on the left. To upload files, simply drag and drop them into the desired folder.\n",
        "\n",
        "![image.png](data:image/png;base64,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)\n",
        "\n",
        "The working directory when starting the notebook is `/content`."
      ]
    },
    {
      "cell_type": "code",
      "execution_count": null,
      "metadata": {
        "colab": {
          "base_uri": "https://localhost:8080/"
        },
        "id": "ZnVqHZkBXJhI",
        "outputId": "a856560f-b3cc-414d-8c6d-d4c8aebdd00f"
      },
      "outputs": [],
      "source": [
        "!pwd"
      ]
    },
    {
      "cell_type": "markdown",
      "metadata": {
        "id": "IxnCAGs1ZWWB"
      },
      "source": [
        "Attention: Uploaded files will be lost as soon as the runtime is closed or a reset is performed."
      ]
    },
    {
      "cell_type": "markdown",
      "metadata": {
        "id": "_DUtWcEUXgNS"
      },
      "source": [
        "## Execute commands on the command line.\n",
        "\n",
        "The code cell above with `!pwd` was not Python code, but was executed on the command line. Using the preceding exclamation mark, commands can be executed as in a Linux Command Line/Bash:"
      ]
    },
    {
      "cell_type": "code",
      "execution_count": null,
      "metadata": {
        "colab": {
          "base_uri": "https://localhost:8080/"
        },
        "id": "SStfHHXKYu6V",
        "outputId": "53539727-eb4f-4cfd-8c0d-50f1ec5107ed"
      },
      "outputs": [],
      "source": [
        "# Show current folder contents\n",
        "!ls"
      ]
    },
    {
      "cell_type": "code",
      "execution_count": null,
      "metadata": {
        "colab": {
          "base_uri": "https://localhost:8080/"
        },
        "id": "rE8YcVnxYC9u",
        "outputId": "b44c2298-c0ee-4cc2-df4e-0010d21d9ac6"
      },
      "outputs": [],
      "source": [
        "# Install the Python module polars with pip\n",
        "!pip install polars"
      ]
    }
  ],
  "metadata": {
    "colab": {
      "name": "colabIntro.ipynb",
      "provenance": [],
      "toc_visible": true
    },
    "kernelspec": {
      "display_name": "Python 3",
      "name": "python3"
    },
    "language_info": {
      "codemirror_mode": {
        "name": "ipython",
        "version": 3
      },
      "file_extension": ".py",
      "mimetype": "text/x-python",
      "name": "python",
      "nbconvert_exporter": "python",
      "pygments_lexer": "ipython3",
      "version": "3.10.11"
    }
  },
  "nbformat": 4,
  "nbformat_minor": 0
}
